{
 "cells": [
  {
   "cell_type": "code",
   "execution_count": 1,
   "id": "ce9fa4b7",
   "metadata": {},
   "outputs": [],
   "source": [
    "import numpy as np\n",
    "import ot\n",
    "import trimesh\n",
    "import open3d as o3d\n",
    "import utils\n",
    "from utils import GM\n",
    "from tqdm import trange\n",
    "\n",
    "#plotting\n",
    "import plotly.graph_objects as go\n",
    "from plotly.subplots import make_subplots"
   ]
  },
  {
   "cell_type": "code",
   "execution_count": 2,
   "id": "1d50857e",
   "metadata": {},
   "outputs": [],
   "source": [
    "N = 100    #number of meshes/gm spaces\n",
    "sqd = 1000 #parameter for mesh simplification"
   ]
  },
  {
   "cell_type": "code",
   "execution_count": 3,
   "id": "1e46ca3b",
   "metadata": {},
   "outputs": [],
   "source": [
    "#LOAD FAUST dataset\n",
    "meshes_faust = []\n",
    "for i in range(N):\n",
    "    #load mesh\n",
    "    filepath= \"../data/MPI-FAUST/training/registrations/tr_reg_{0}.ply\".format(str(\"{:03d}\".format(i)))\n",
    "    pcd = o3d.io.read_triangle_mesh(filepath)\n",
    "    mesh = trimesh.Trimesh(vertices=pcd.vertices,faces = pcd.triangles)\n",
    "    \n",
    "    #simplifiy mesh\n",
    "    mesh = mesh.simplify_quadratic_decimation(sqd)\n",
    "    \n",
    "    #append mesh to list\n",
    "    meshes_faust.append(mesh)"
   ]
  },
  {
   "cell_type": "code",
   "execution_count": 4,
   "id": "3bf7f7bd",
   "metadata": {},
   "outputs": [
    {
     "data": {
      "application/vnd.jupyter.widget-view+json": {
       "model_id": "336c76c4266b4d19bd4076bd30d05f33",
       "version_major": 2,
       "version_minor": 0
      },
      "text/plain": [
       "FigureWidget({\n",
       "    'data': [{'i': array([113, 216, 284, ..., 408, 402, 446]),\n",
       "              'j': array([216,  …"
      ]
     },
     "metadata": {},
     "output_type": "display_data"
    }
   ],
   "source": [
    "width = 500\n",
    "height = 500\n",
    "ambient = 0.4\n",
    "\n",
    "i = 0\n",
    "mesh = meshes_faust[i]\n",
    "\n",
    "fig = make_subplots(rows=1, cols=1,\n",
    "               specs=[[{'type': 'scene'}] * 1],shared_xaxes=True)\n",
    "fig.add_trace(\n",
    "    go.Mesh3d(\n",
    "    x=mesh.vertices[:,0],\n",
    "    y=mesh.vertices[:,1],\n",
    "    z=mesh.vertices[:,2],\n",
    "    # i, j and k give the vertices of triangles\n",
    "    i=mesh.faces[:,0],\n",
    "    j=mesh.faces[:,1],\n",
    "    k=mesh.faces[:,2],\n",
    "    showscale=False,\n",
    "    lighting=dict(ambient=ambient)\n",
    "),\n",
    "    row = 1, col = 1\n",
    ")\n",
    "fig.update_layout(showlegend=False,width=width,height=height)\n",
    "fig.update_scenes(aspectmode='data')\n",
    "fig = go.FigureWidget(fig)\n",
    "fig"
   ]
  },
  {
   "cell_type": "code",
   "execution_count": 5,
   "id": "613b22a7",
   "metadata": {},
   "outputs": [
    {
     "name": "stdout",
     "output_type": "stream",
     "text": [
      "GW Transport costs: 0.006806678058398033\n"
     ]
    }
   ],
   "source": [
    "#choose gm-spaces\n",
    "i = 0\n",
    "j = 1\n",
    "\n",
    "mesh = meshes_faust[i]\n",
    "X = GM(X=mesh.vertices,Tris=mesh.faces,mode=\"surface\",gauge_mode=\"djikstra\",squared=False)\n",
    "\n",
    "mesh = meshes_faust[j]\n",
    "Y = GM(X=mesh.vertices,Tris=mesh.faces,mode=\"surface\",gauge_mode=\"djikstra\",squared=False)\n",
    "\n",
    "\n",
    "#compute GW Plan\n",
    "P,log = ot.gromov.gromov_wasserstein(X.g,Y.g,X.xi,Y.xi,log=True)\n",
    "print(\"GW Transport costs: {0}\".format(log[\"gw_dist\"]))"
   ]
  },
  {
   "cell_type": "code",
   "execution_count": 6,
   "id": "3eb49e9e",
   "metadata": {},
   "outputs": [
    {
     "data": {
      "application/vnd.jupyter.widget-view+json": {
       "model_id": "680f58e1d5d74f55932243b051e96b53",
       "version_major": 2,
       "version_minor": 0
      },
      "text/plain": [
       "FigureWidget({\n",
       "    'data': [{'i': array([113, 216, 284, ..., 408, 402, 446]),\n",
       "              'intensity': array…"
      ]
     },
     "metadata": {},
     "output_type": "display_data"
    }
   ],
   "source": [
    "#colour-code X\n",
    "cX = np.linalg.norm(X.X - np.min(X.X),axis=1)\n",
    "#colour-code Y according to transport P\n",
    "cY = (P.T / np.sum(P,axis=1)).dot(cX)\n",
    "\n",
    "#plot\n",
    "fig = make_subplots(rows=1, cols=2,\n",
    "               specs=[[{'type': 'scene'}] * 2],shared_xaxes=True)\n",
    "#plot X\n",
    "fig.add_trace(\n",
    "    go.Mesh3d(\n",
    "    x=X.X[:,0],\n",
    "    y=X.X[:,1],\n",
    "    z=X.X[:,2],\n",
    "    # Intensity of each vertex, which will be interpolated and color-coded\n",
    "    intensity=cX,\n",
    "    # i, j and k give the vertices of triangles\n",
    "    i=X.Tris[:,0],\n",
    "    j=X.Tris[:,1],\n",
    "    k=X.Tris[:,2],\n",
    "    showscale=False,\n",
    "    lighting=dict(ambient=ambient)\n",
    "),\n",
    "    row = 1, col = 1\n",
    ")\n",
    "\n",
    "#plot Y\n",
    "fig.add_trace(\n",
    "    go.Mesh3d(\n",
    "    x=Y.X[:,0],\n",
    "    y=Y.X[:,1],\n",
    "    z=Y.X[:,2],\n",
    "    # Intensity of each vertex, which will be interpolated and color-coded\n",
    "    intensity=cY,\n",
    "    # i, j and k give the vertices of triangles\n",
    "    i=Y.Tris[:,0],\n",
    "    j=Y.Tris[:,1],\n",
    "    k=Y.Tris[:,2],\n",
    "    showscale=False,\n",
    "    lighting=dict(ambient=ambient)\n",
    "),\n",
    "    row = 1, col = 2\n",
    ")\n",
    "\n",
    "fig.update_scenes(aspectmode='data')\n",
    "fig.update_layout(showlegend=False,width=width,height=height)\n",
    "\n",
    "fig = go.FigureWidget(fig)\n",
    "fig"
   ]
  }
 ],
 "metadata": {
  "kernelspec": {
   "display_name": "Python 3 (ipykernel)",
   "language": "python",
   "name": "python3"
  },
  "language_info": {
   "codemirror_mode": {
    "name": "ipython",
    "version": 3
   },
   "file_extension": ".py",
   "mimetype": "text/x-python",
   "name": "python",
   "nbconvert_exporter": "python",
   "pygments_lexer": "ipython3",
   "version": "3.8.8"
  }
 },
 "nbformat": 4,
 "nbformat_minor": 5
}
