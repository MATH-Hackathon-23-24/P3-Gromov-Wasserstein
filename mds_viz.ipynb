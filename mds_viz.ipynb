{
 "cells": [
  {
   "cell_type": "code",
   "execution_count": 1,
   "metadata": {},
   "outputs": [],
   "source": [
    "import numpy as np\n",
    "import matplotlib.pyplot as plt\n",
    "from sklearn import manifold, cluster\n",
    "import plotly.express as px"
   ]
  },
  {
   "cell_type": "code",
   "execution_count": 14,
   "metadata": {},
   "outputs": [],
   "source": [
    "m_bodies = np.load(\"aggregated_distances_lgw_sqd500.npy\")\n",
    "names = np.load(\"image_names.npy\")\n",
    "animals = ['camel', 'cat', 'elephant', 'face', 'flamingo', 'head', 'horse', 'lion']\n",
    "animals_nd = np.asanyarray(animals)"
   ]
  },
  {
   "cell_type": "code",
   "execution_count": 3,
   "metadata": {},
   "outputs": [],
   "source": [
    "avg = np.min(m_bodies, axis=0)"
   ]
  },
  {
   "cell_type": "code",
   "execution_count": 4,
   "metadata": {},
   "outputs": [
    {
     "data": {
      "text/plain": [
       "(8, 83, 83)"
      ]
     },
     "execution_count": 4,
     "metadata": {},
     "output_type": "execute_result"
    }
   ],
   "source": [
    "m_bodies.shape"
   ]
  },
  {
   "cell_type": "code",
   "execution_count": 5,
   "metadata": {},
   "outputs": [
    {
     "data": {
      "text/plain": [
       "<matplotlib.image.AxesImage at 0x146463710>"
      ]
     },
     "execution_count": 5,
     "metadata": {},
     "output_type": "execute_result"
    },
    {
     "data": {
      "image/png": "[encoded data removed]",
      "text/plain": [
       "<Figure size 640x480 with 1 Axes>"
      ]
     },
     "metadata": {},
     "output_type": "display_data"
    }
   ],
   "source": [
    "plt.imshow(np.argmin(m_bodies, axis=0))"
   ]
  },
  {
   "cell_type": "code",
   "execution_count": 36,
   "metadata": {},
   "outputs": [
    {
     "data": {
      "text/plain": [
       "(83, 83)"
      ]
     },
     "execution_count": 36,
     "metadata": {},
     "output_type": "execute_result"
    }
   ],
   "source": [
    "avg.shape"
   ]
  },
  {
   "cell_type": "code",
   "execution_count": 7,
   "metadata": {},
   "outputs": [
    {
     "name": "stderr",
     "output_type": "stream",
     "text": [
      "/Users/alonsoc1s/miniconda3/envs/tes_smalldata_hackathon/lib/python3.11/site-packages/sklearn/manifold/_mds.py:299: FutureWarning: The default value of `normalized_stress` will change to `'auto'` in version 1.4. To suppress this warning, manually set the value of `normalized_stress`.\n",
      "  warnings.warn(\n"
     ]
    }
   ],
   "source": [
    "mds = manifold.MDS(\n",
    "    n_components=3,\n",
    "    max_iter=3000,\n",
    "    eps=1e-9,\n",
    "    dissimilarity=\"precomputed\",\n",
    "    n_jobs=1,\n",
    ")\n",
    "pos = mds.fit(avg).embedding_\n",
    "labels = np.concatenate([np.repeat(\"red\", 11), np.repeat(\"blue\", 10), np.repeat(\"green\", 10)])"
   ]
  },
  {
   "cell_type": "code",
   "execution_count": 18,
   "metadata": {},
   "outputs": [
    {
     "data": {
      "application/vnd.plotly.v1+json": {
       "config": {
        "plotlyServerURL": "https://plot.ly"
       },
       "data": [
        {
         "hovertemplate": "<b>%{hovertext}</b><br><br>x=%{x}<br>y=%{y}<br>z=%{z}<br>color=%{marker.color}<extra></extra>",
         "hovertext": [
          "flamingo",
          "flamingo",
          "flamingo",
          "flamingo",
          "flamingo",
          "flamingo",
          "flamingo",
          "flamingo",
          "flamingo",
          "flamingo",
          "flamingo",
          "head",
          "head",
          "cat",
          "cat",
          "head",
          "head",
          "cat",
          "head",
          "cat",
          "head",
          "lion",
          "lion",
          "lion",
          "lion",
          "lion",
          "lion",
          "lion",
          "lion",
          "lion",
          "lion",
          "lion",
          "elephant",
          "elephant",
          "elephant",
          "elephant",
          "elephant",
          "elephant",
          "elephant",
          "elephant",
          "elephant",
          "elephant",
          "horse",
          "horse",
          "camel",
          "camel",
          "horse",
          "horse",
          "horse",
          "camel",
          "horse",
          "camel",
          "camel",
          "face",
          "face",
          "face",
          "face",
          "face",
          "face",
          "face",
          "face",
          "face",
          "face",
          "cat",
          "cat",
          "cat",
          "cat",
          "cat",
          "cat",
          "cat",
          "cat",
          "cat",
          "cat",
          "head",
          "cat",
          "cat",
          "cat",
          "head",
          "flamingo",
          "cat",
          "head",
          "cat",
          "flamingo"
         ],
         "legendgroup": "",
         "marker": {
          "color": [
           4,
           4,
           4,
           4,
           4,
           4,
           4,
           4,
           4,
           4,
           4,
           5,
           5,
           1,
           1,
           5,
           5,
           1,
           5,
           1,
           5,
           7,
           7,
           7,
           7,
           7,
           7,
           7,
           7,
           7,
           7,
           7,
           2,
           2,
           2,
           2,
           2,
           2,
           2,
           2,
           2,
           2,
           6,
           6,
           0,
           0,
           6,
           6,
           6,
           0,
           6,
           0,
           0,
           3,
           3,
           3,
           3,
           3,
           3,
           3,
           3,
           3,
           3,
           1,
           1,
           1,
           1,
           1,
           1,
           1,
           1,
           1,
           1,
           5,
           1,
           1,
           1,
           5,
           4,
           1,
           5,
           1,
           4
          ],
          "coloraxis": "coloraxis",
          "symbol": "circle"
         },
         "mode": "markers",
         "name": "",
         "scene": "scene",
         "showlegend": false,
         "type": "scatter3d",
         "x": [
          -0.010635200709899673,
          -0.0053903594962360635,
          0.0017508210038447109,
          -0.02635740949032555,
          -0.00037413320658692505,
          -0.0028601618320515908,
          -0.013244119030009525,
          -0.01535429266567485,
          -0.029397000921439955,
          -0.01856286468321738,
          -0.026381829838791053,
          -0.08152847520158853,
          -0.06137334027275892,
          -0.06339907977421051,
          -0.07507325725123334,
          -0.08710399826472427,
          -0.0941401491140345,
          -0.07288927561631539,
          -0.06246700180498664,
          -0.08610888363914244,
          -0.08397659336211181,
          -0.019682748281945,
          -0.005805996516058594,
          -0.035751625225283926,
          -0.048143068678001576,
          -0.04805619852622912,
          -0.024360343754747632,
          -0.029086152816010888,
          -0.004100023269935903,
          -0.02008399193466822,
          -0.030510348910586276,
          -0.034366288980229795,
          -0.025576713481126726,
          0.011855241917689231,
          -0.03407690199650105,
          -0.023584838260627496,
          -0.00663816546430827,
          0.005158934493670849,
          -0.017836049164876397,
          0.02886350780385818,
          0.02894885697169537,
          -0.0062744548284344405,
          0.23366990384055902,
          0.19398523034678314,
          0.18934225838437532,
          0.21182502339898293,
          0.21331451287403067,
          0.22111985445490126,
          0.2047419277453462,
          0.20353741826415472,
          0.21293685431310183,
          0.197750213452761,
          0.19949460847239325,
          0.015007944737992145,
          0.02800875012705784,
          0.03100093263032886,
          0.03754973593679065,
          0.003695548755904379,
          0.03155571665797569,
          0.026868709012028768,
          0.01765992446943932,
          0.012651687847633153,
          0.003098586217529512,
          -0.06143659742545499,
          -0.06819772725501261,
          -0.08230592823746435,
          -0.06305939748160692,
          -0.07435652032848517,
          -0.05389030878491683,
          -0.0853608123216934,
          -0.07080283728175792,
          -0.07264696860782238,
          -0.07148594396655206,
          -0.04925839039252079,
          -0.05956829894101792,
          -0.04256616258128911,
          -0.05395535442400134,
          -0.048796484028704096,
          -0.02828659575990842,
          -0.05583752413923104,
          -0.07543125806754634,
          -0.0754386069419643,
          -0.042159650898967754
         ],
         "y": [
          0.003362381104182688,
          0.0209061175436556,
          0.011125420289177693,
          -0.018812349389366687,
          -0.015161065124829957,
          -0.0019340851727684245,
          -0.003984405806059697,
          0.01669176009642172,
          0.02002465283380247,
          0.036295712814822766,
          0.008068110841715955,
          -0.03745944448547361,
          -0.045832665378776484,
          -0.009988372354157074,
          -0.016687895935412117,
          -0.03994115871341198,
          -0.05252232264513258,
          0.01702567769999995,
          -0.05776664789966819,
          -0.006085014637909269,
          -0.039954219611774006,
          -0.05771864492174082,
          -0.06879300817575762,
          -0.0725132983273682,
          -0.08193734164674414,
          -0.07463820779980952,
          -0.07861319908961566,
          -0.07706864095269876,
          -0.058704047195883596,
          -0.06947256307730465,
          -0.07197657837674432,
          -0.08291886686283546,
          0.01069868067561775,
          -0.015864952824985804,
          -0.0008098643221946237,
          0.02662934951150499,
          0.01760945162126839,
          0.008684594037417052,
          -0.004895137259915127,
          -0.0033481210719621905,
          -0.001215237739820173,
          -0.012539630074234488,
          0.022476367381517263,
          -0.029493559749780882,
          0.02315530932518599,
          0.009946645945046743,
          -0.004412435570999045,
          0.019547282315324665,
          -0.02955166082299316,
          0.03804122099531704,
          -0.022755911395337676,
          0.05181458790931721,
          -0.007880135793085614,
          0.08881205760282546,
          0.09723730903598288,
          0.07016668006908902,
          0.10491396012548784,
          0.09403259687092828,
          0.08743861453600354,
          0.0799359140137867,
          0.08661623214191289,
          0.0954016159980898,
          0.0839617801039068,
          0.008820028164768578,
          0.03245990760902758,
          0.0021262285159272237,
          0.03114286881793762,
          0.017286198207399295,
          0.014049378778597927,
          0.013638065034845107,
          0.000956608363592504,
          0.013850622813573486,
          0.002603906213186072,
          -0.02808283649214411,
          -0.0280413420202977,
          -0.024298940393868027,
          -0.013979517505789851,
          -0.049048146879522386,
          -0.051736930594979955,
          0.06159688213566054,
          -0.057561846051110234,
          0.041768509518403794,
          0.03508096253203478
         ],
         "z": [
          -0.0489428450568578,
          -0.07867033395061045,
          -0.0723628965358605,
          -0.06473131474963423,
          -0.06897204510724335,
          -0.0651013167662922,
          -0.0755184372838235,
          -0.06622312928760364,
          -0.07078102086227844,
          -0.07732535230820455,
          -0.07814885738720523,
          0.02000560925432774,
          0.00993058311319587,
          -0.02509643739953377,
          -0.012946908038203992,
          0.008750037914400042,
          0.026608402754451883,
          -0.04521494797151745,
          -0.022041313740785686,
          -0.03633855979481027,
          0.040132419681381364,
          0.035318470794190655,
          0.02252513187734484,
          0.048682803215661805,
          0.03498962057674313,
          0.047898295056205964,
          0.020440994187252898,
          0.040747929644484704,
          0.021568632437830353,
          0.026990456123259527,
          0.032894245540541385,
          0.022026288456465048,
          0.08165088122275616,
          0.09060216005325304,
          0.0952961091549042,
          0.08838487758895697,
          0.08947483123314187,
          0.0974026474848019,
          0.09606169304877715,
          0.07033278115912407,
          0.0811410386988706,
          0.09345837891707202,
          -0.04332896602186181,
          -0.019202938865247765,
          -0.11109912042997969,
          -0.07200089748082342,
          -0.01923084015244627,
          -0.009759452379665658,
          -0.05088075537645604,
          -0.10867238965314881,
          -0.030890595147438093,
          -0.08784309863132968,
          -0.0780550391218604,
          0.04627569713025791,
          0.04015449933320924,
          0.05127462229327748,
          0.0328204017422658,
          0.04839603885855758,
          0.05261224007804808,
          0.06692658956306763,
          0.05917867205049106,
          0.03558792317160958,
          0.05572767115480215,
          -0.007948807658237704,
          -0.003647225672346713,
          0.013872669214548836,
          0.007082097768053467,
          0.0015727495554948485,
          -0.003187644445590286,
          0.013474417636233098,
          0.003219819548351416,
          -0.007562763356362491,
          0.01146347288812312,
          -0.014673603552899673,
          -0.03259985390211157,
          -0.025257940586853073,
          -0.04105800827208926,
          -0.029796107833859622,
          -0.044666704571459125,
          -0.042575355030538845,
          -0.009857585594296135,
          -0.03841123017017466,
          -0.04233226102824446
         ]
        }
       ],
       "layout": {
        "coloraxis": {
         "colorbar": {
          "title": {
           "text": "color"
          }
         },
         "colorscale": [
          [
           0,
           "#0d0887"
          ],
          [
           0.1111111111111111,
           "#46039f"
          ],
          [
           0.2222222222222222,
           "#7201a8"
          ],
          [
           0.3333333333333333,
           "#9c179e"
          ],
          [
           0.4444444444444444,
           "#bd3786"
          ],
          [
           0.5555555555555556,
           "#d8576b"
          ],
          [
           0.6666666666666666,
           "#ed7953"
          ],
          [
           0.7777777777777778,
           "#fb9f3a"
          ],
          [
           0.8888888888888888,
           "#fdca26"
          ],
          [
           1,
           "#f0f921"
          ]
         ]
        },
        "legend": {
         "tracegroupgap": 0
        },
        "margin": {
         "t": 60
        },
        "scene": {
         "domain": {
          "x": [
           0,
           1
          ],
          "y": [
           0,
           1
          ]
         },
         "xaxis": {
          "title": {
           "text": "x"
          }
         },
         "yaxis": {
          "title": {
           "text": "y"
          }
         },
         "zaxis": {
          "title": {
           "text": "z"
          }
         }
        },
        "template": {
         "data": {
          "bar": [
           {
            "error_x": {
             "color": "#2a3f5f"
            },
            "error_y": {
             "color": "#2a3f5f"
            },
            "marker": {
             "line": {
              "color": "#E5ECF6",
              "width": 0.5
             },
             "pattern": {
              "fillmode": "overlay",
              "size": 10,
              "solidity": 0.2
             }
            },
            "type": "bar"
           }
          ],
          "barpolar": [
           {
            "marker": {
             "line": {
              "color": "#E5ECF6",
              "width": 0.5
             },
             "pattern": {
              "fillmode": "overlay",
              "size": 10,
              "solidity": 0.2
             }
            },
            "type": "barpolar"
           }
          ],
          "carpet": [
           {
            "aaxis": {
             "endlinecolor": "#2a3f5f",
             "gridcolor": "white",
             "linecolor": "white",
             "minorgridcolor": "white",
             "startlinecolor": "#2a3f5f"
            },
            "baxis": {
             "endlinecolor": "#2a3f5f",
             "gridcolor": "white",
             "linecolor": "white",
             "minorgridcolor": "white",
             "startlinecolor": "#2a3f5f"
            },
            "type": "carpet"
           }
          ],
          "choropleth": [
           {
            "colorbar": {
             "outlinewidth": 0,
             "ticks": ""
            },
            "type": "choropleth"
           }
          ],
          "contour": [
           {
            "colorbar": {
             "outlinewidth": 0,
             "ticks": ""
            },
            "colorscale": [
             [
              0,
              "#0d0887"
             ],
             [
              0.1111111111111111,
              "#46039f"
             ],
             [
              0.2222222222222222,
              "#7201a8"
             ],
             [
              0.3333333333333333,
              "#9c179e"
             ],
             [
              0.4444444444444444,
              "#bd3786"
             ],
             [
              0.5555555555555556,
              "#d8576b"
             ],
             [
              0.6666666666666666,
              "#ed7953"
             ],
             [
              0.7777777777777778,
              "#fb9f3a"
             ],
             [
              0.8888888888888888,
              "#fdca26"
             ],
             [
              1,
              "#f0f921"
             ]
            ],
            "type": "contour"
           }
          ],
          "contourcarpet": [
           {
            "colorbar": {
             "outlinewidth": 0,
             "ticks": ""
            },
            "type": "contourcarpet"
           }
          ],
          "heatmap": [
           {
            "colorbar": {
             "outlinewidth": 0,
             "ticks": ""
            },
            "colorscale": [
             [
              0,
              "#0d0887"
             ],
             [
              0.1111111111111111,
              "#46039f"
             ],
             [
              0.2222222222222222,
              "#7201a8"
             ],
             [
              0.3333333333333333,
              "#9c179e"
             ],
             [
              0.4444444444444444,
              "#bd3786"
             ],
             [
              0.5555555555555556,
              "#d8576b"
             ],
             [
              0.6666666666666666,
              "#ed7953"
             ],
             [
              0.7777777777777778,
              "#fb9f3a"
             ],
             [
              0.8888888888888888,
              "#fdca26"
             ],
             [
              1,
              "#f0f921"
             ]
            ],
            "type": "heatmap"
           }
          ],
          "heatmapgl": [
           {
            "colorbar": {
             "outlinewidth": 0,
             "ticks": ""
            },
            "colorscale": [
             [
              0,
              "#0d0887"
             ],
             [
              0.1111111111111111,
              "#46039f"
             ],
             [
              0.2222222222222222,
              "#7201a8"
             ],
             [
              0.3333333333333333,
              "#9c179e"
             ],
             [
              0.4444444444444444,
              "#bd3786"
             ],
             [
              0.5555555555555556,
              "#d8576b"
             ],
             [
              0.6666666666666666,
              "#ed7953"
             ],
             [
              0.7777777777777778,
              "#fb9f3a"
             ],
             [
              0.8888888888888888,
              "#fdca26"
             ],
             [
              1,
              "#f0f921"
             ]
            ],
            "type": "heatmapgl"
           }
          ],
          "histogram": [
           {
            "marker": {
             "pattern": {
              "fillmode": "overlay",
              "size": 10,
              "solidity": 0.2
             }
            },
            "type": "histogram"
           }
          ],
          "histogram2d": [
           {
            "colorbar": {
             "outlinewidth": 0,
             "ticks": ""
            },
            "colorscale": [
             [
              0,
              "#0d0887"
             ],
             [
              0.1111111111111111,
              "#46039f"
             ],
             [
              0.2222222222222222,
              "#7201a8"
             ],
             [
              0.3333333333333333,
              "#9c179e"
             ],
             [
              0.4444444444444444,
              "#bd3786"
             ],
             [
              0.5555555555555556,
              "#d8576b"
             ],
             [
              0.6666666666666666,
              "#ed7953"
             ],
             [
              0.7777777777777778,
              "#fb9f3a"
             ],
             [
              0.8888888888888888,
              "#fdca26"
             ],
             [
              1,
              "#f0f921"
             ]
            ],
            "type": "histogram2d"
           }
          ],
          "histogram2dcontour": [
           {
            "colorbar": {
             "outlinewidth": 0,
             "ticks": ""
            },
            "colorscale": [
             [
              0,
              "#0d0887"
             ],
             [
              0.1111111111111111,
              "#46039f"
             ],
             [
              0.2222222222222222,
              "#7201a8"
             ],
             [
              0.3333333333333333,
              "#9c179e"
             ],
             [
              0.4444444444444444,
              "#bd3786"
             ],
             [
              0.5555555555555556,
              "#d8576b"
             ],
             [
              0.6666666666666666,
              "#ed7953"
             ],
             [
              0.7777777777777778,
              "#fb9f3a"
             ],
             [
              0.8888888888888888,
              "#fdca26"
             ],
             [
              1,
              "#f0f921"
             ]
            ],
            "type": "histogram2dcontour"
           }
          ],
          "mesh3d": [
           {
            "colorbar": {
             "outlinewidth": 0,
             "ticks": ""
            },
            "type": "mesh3d"
           }
          ],
          "parcoords": [
           {
            "line": {
             "colorbar": {
              "outlinewidth": 0,
              "ticks": ""
             }
            },
            "type": "parcoords"
           }
          ],
          "pie": [
           {
            "automargin": true,
            "type": "pie"
           }
          ],
          "scatter": [
           {
            "fillpattern": {
             "fillmode": "overlay",
             "size": 10,
             "solidity": 0.2
            },
            "type": "scatter"
           }
          ],
          "scatter3d": [
           {
            "line": {
             "colorbar": {
              "outlinewidth": 0,
              "ticks": ""
             }
            },
            "marker": {
             "colorbar": {
              "outlinewidth": 0,
              "ticks": ""
             }
            },
            "type": "scatter3d"
           }
          ],
          "scattercarpet": [
           {
            "marker": {
             "colorbar": {
              "outlinewidth": 0,
              "ticks": ""
             }
            },
            "type": "scattercarpet"
           }
          ],
          "scattergeo": [
           {
            "marker": {
             "colorbar": {
              "outlinewidth": 0,
              "ticks": ""
             }
            },
            "type": "scattergeo"
           }
          ],
          "scattergl": [
           {
            "marker": {
             "colorbar": {
              "outlinewidth": 0,
              "ticks": ""
             }
            },
            "type": "scattergl"
           }
          ],
          "scattermapbox": [
           {
            "marker": {
             "colorbar": {
              "outlinewidth": 0,
              "ticks": ""
             }
            },
            "type": "scattermapbox"
           }
          ],
          "scatterpolar": [
           {
            "marker": {
             "colorbar": {
              "outlinewidth": 0,
              "ticks": ""
             }
            },
            "type": "scatterpolar"
           }
          ],
          "scatterpolargl": [
           {
            "marker": {
             "colorbar": {
              "outlinewidth": 0,
              "ticks": ""
             }
            },
            "type": "scatterpolargl"
           }
          ],
          "scatterternary": [
           {
            "marker": {
             "colorbar": {
              "outlinewidth": 0,
              "ticks": ""
             }
            },
            "type": "scatterternary"
           }
          ],
          "surface": [
           {
            "colorbar": {
             "outlinewidth": 0,
             "ticks": ""
            },
            "colorscale": [
             [
              0,
              "#0d0887"
             ],
             [
              0.1111111111111111,
              "#46039f"
             ],
             [
              0.2222222222222222,
              "#7201a8"
             ],
             [
              0.3333333333333333,
              "#9c179e"
             ],
             [
              0.4444444444444444,
              "#bd3786"
             ],
             [
              0.5555555555555556,
              "#d8576b"
             ],
             [
              0.6666666666666666,
              "#ed7953"
             ],
             [
              0.7777777777777778,
              "#fb9f3a"
             ],
             [
              0.8888888888888888,
              "#fdca26"
             ],
             [
              1,
              "#f0f921"
             ]
            ],
            "type": "surface"
           }
          ],
          "table": [
           {
            "cells": {
             "fill": {
              "color": "#EBF0F8"
             },
             "line": {
              "color": "white"
             }
            },
            "header": {
             "fill": {
              "color": "#C8D4E3"
             },
             "line": {
              "color": "white"
             }
            },
            "type": "table"
           }
          ]
         },
         "layout": {
          "annotationdefaults": {
           "arrowcolor": "#2a3f5f",
           "arrowhead": 0,
           "arrowwidth": 1
          },
          "autotypenumbers": "strict",
          "coloraxis": {
           "colorbar": {
            "outlinewidth": 0,
            "ticks": ""
           }
          },
          "colorscale": {
           "diverging": [
            [
             0,
             "#8e0152"
            ],
            [
             0.1,
             "#c51b7d"
            ],
            [
             0.2,
             "#de77ae"
            ],
            [
             0.3,
             "#f1b6da"
            ],
            [
             0.4,
             "#fde0ef"
            ],
            [
             0.5,
             "#f7f7f7"
            ],
            [
             0.6,
             "#e6f5d0"
            ],
            [
             0.7,
             "#b8e186"
            ],
            [
             0.8,
             "#7fbc41"
            ],
            [
             0.9,
             "#4d9221"
            ],
            [
             1,
             "#276419"
            ]
           ],
           "sequential": [
            [
             0,
             "#0d0887"
            ],
            [
             0.1111111111111111,
             "#46039f"
            ],
            [
             0.2222222222222222,
             "#7201a8"
            ],
            [
             0.3333333333333333,
             "#9c179e"
            ],
            [
             0.4444444444444444,
             "#bd3786"
            ],
            [
             0.5555555555555556,
             "#d8576b"
            ],
            [
             0.6666666666666666,
             "#ed7953"
            ],
            [
             0.7777777777777778,
             "#fb9f3a"
            ],
            [
             0.8888888888888888,
             "#fdca26"
            ],
            [
             1,
             "#f0f921"
            ]
           ],
           "sequentialminus": [
            [
             0,
             "#0d0887"
            ],
            [
             0.1111111111111111,
             "#46039f"
            ],
            [
             0.2222222222222222,
             "#7201a8"
            ],
            [
             0.3333333333333333,
             "#9c179e"
            ],
            [
             0.4444444444444444,
             "#bd3786"
            ],
            [
             0.5555555555555556,
             "#d8576b"
            ],
            [
             0.6666666666666666,
             "#ed7953"
            ],
            [
             0.7777777777777778,
             "#fb9f3a"
            ],
            [
             0.8888888888888888,
             "#fdca26"
            ],
            [
             1,
             "#f0f921"
            ]
           ]
          },
          "colorway": [
           "#636efa",
           "#EF553B",
           "#00cc96",
           "#ab63fa",
           "#FFA15A",
           "#19d3f3",
           "#FF6692",
           "#B6E880",
           "#FF97FF",
           "#FECB52"
          ],
          "font": {
           "color": "#2a3f5f"
          },
          "geo": {
           "bgcolor": "white",
           "lakecolor": "white",
           "landcolor": "#E5ECF6",
           "showlakes": true,
           "showland": true,
           "subunitcolor": "white"
          },
          "hoverlabel": {
           "align": "left"
          },
          "hovermode": "closest",
          "mapbox": {
           "style": "light"
          },
          "paper_bgcolor": "white",
          "plot_bgcolor": "#E5ECF6",
          "polar": {
           "angularaxis": {
            "gridcolor": "white",
            "linecolor": "white",
            "ticks": ""
           },
           "bgcolor": "#E5ECF6",
           "radialaxis": {
            "gridcolor": "white",
            "linecolor": "white",
            "ticks": ""
           }
          },
          "scene": {
           "xaxis": {
            "backgroundcolor": "#E5ECF6",
            "gridcolor": "white",
            "gridwidth": 2,
            "linecolor": "white",
            "showbackground": true,
            "ticks": "",
            "zerolinecolor": "white"
           },
           "yaxis": {
            "backgroundcolor": "#E5ECF6",
            "gridcolor": "white",
            "gridwidth": 2,
            "linecolor": "white",
            "showbackground": true,
            "ticks": "",
            "zerolinecolor": "white"
           },
           "zaxis": {
            "backgroundcolor": "#E5ECF6",
            "gridcolor": "white",
            "gridwidth": 2,
            "linecolor": "white",
            "showbackground": true,
            "ticks": "",
            "zerolinecolor": "white"
           }
          },
          "shapedefaults": {
           "line": {
            "color": "#2a3f5f"
           }
          },
          "ternary": {
           "aaxis": {
            "gridcolor": "white",
            "linecolor": "white",
            "ticks": ""
           },
           "baxis": {
            "gridcolor": "white",
            "linecolor": "white",
            "ticks": ""
           },
           "bgcolor": "#E5ECF6",
           "caxis": {
            "gridcolor": "white",
            "linecolor": "white",
            "ticks": ""
           }
          },
          "title": {
           "x": 0.05
          },
          "xaxis": {
           "automargin": true,
           "gridcolor": "white",
           "linecolor": "white",
           "ticks": "",
           "title": {
            "standoff": 15
           },
           "zerolinecolor": "white",
           "zerolinewidth": 2
          },
          "yaxis": {
           "automargin": true,
           "gridcolor": "white",
           "linecolor": "white",
           "ticks": "",
           "title": {
            "standoff": 15
           },
           "zerolinecolor": "white",
           "zerolinewidth": 2
          }
         }
        }
       }
      }
     },
     "metadata": {},
     "output_type": "display_data"
    }
   ],
   "source": [
    "kmeans = cluster.KMeans(n_clusters=8, random_state=0, n_init=\"auto\").fit(pos)\n",
    "# plt.scatter(pos[:, 0], pos[:, 1], c = kmeans.labels_)\n",
    "px.scatter_3d(x=pos[:, 0], y=pos[:, 1], z=pos[:, 2], color = kmeans.labels_, hover_name=animals_nd[kmeans.labels_])"
   ]
  },
  {
   "cell_type": "code",
   "execution_count": 39,
   "metadata": {},
   "outputs": [
    {
     "data": {
      "text/plain": [
       "{0: 5, 1: 16, 2: 10, 3: 10, 4: 12, 5: 13, 6: 6, 7: 11}"
      ]
     },
     "execution_count": 39,
     "metadata": {},
     "output_type": "execute_result"
    }
   ],
   "source": [
    "unique, counts = np.unique(kmeans.labels_, return_counts=True)\n",
    "dict(zip(unique,counts))"
   ]
  },
  {
   "cell_type": "code",
   "execution_count": 48,
   "metadata": {},
   "outputs": [
    {
     "data": {
      "text/plain": [
       "array(['elephant01', 'elephant02', 'elephant03', 'elephant04',\n",
       "       'elephant05', 'elephant06', 'elephant07', 'elephant08',\n",
       "       'elephant09', 'elephant10', 'elephant11'], dtype='<U10')"
      ]
     },
     "execution_count": 48,
     "metadata": {},
     "output_type": "execute_result"
    }
   ],
   "source": [
    "names[np.where(kmeans.labels_ == 7)]"
   ]
  },
  {
   "cell_type": "code",
   "execution_count": null,
   "metadata": {},
   "outputs": [],
   "source": []
  }
 ],
 "metadata": {
  "kernelspec": {
   "display_name": "tes_smalldata_hackathon",
   "language": "python",
   "name": "python3"
  },
  "language_info": {
   "codemirror_mode": {
    "name": "ipython",
    "version": 3
   },
   "file_extension": ".py",
   "mimetype": "text/x-python",
   "name": "python",
   "nbconvert_exporter": "python",
   "pygments_lexer": "ipython3",
   "version": "3.11.7"
  }
 },
 "nbformat": 4,
 "nbformat_minor": 2
}
