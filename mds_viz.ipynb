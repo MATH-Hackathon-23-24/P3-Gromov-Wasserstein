{
 "cells": [
  {
   "cell_type": "code",
   "execution_count": 1,
   "metadata": {},
   "outputs": [],
   "source": [
    "import numpy as np\n",
    "import matplotlib.pyplot as plt\n",
    "from sklearn import manifold, cluster\n",
    "import plotly.express as px"
   ]
  },
  {
   "cell_type": "code",
<<<<<<< Updated upstream
   "execution_count": 2,
=======
   "execution_count": 62,
>>>>>>> Stashed changes
   "metadata": {},
   "outputs": [],
   "source": [
    "m_bodies = np.load(\"aggregated_distances_lgw_sqd500.npy\")\n",
    "names = np.load(\"image_names.npy\")\n",
    "animals = ['camel', 'cat', 'elephant', 'face', 'flamingo', 'head', 'horse', 'lion']"
   ]
  },
  {
   "cell_type": "code",
<<<<<<< Updated upstream
   "execution_count": 60,
   "metadata": {},
   "outputs": [
    {
     "data": {
      "text/plain": [
       "array(['camel01', 'camel02', 'camel03', 'camel04', 'camel05', 'camel06',\n",
       "       'camel07', 'camel08', 'camel09', 'camel10', 'camel11', 'cat01',\n",
       "       'cat02', 'cat03', 'cat04', 'cat05', 'cat06', 'cat07', 'cat08',\n",
       "       'cat09', 'cat10', 'elephant01', 'elephant02', 'elephant03',\n",
       "       'elephant04', 'elephant05', 'elephant06', 'elephant07',\n",
       "       'elephant08', 'elephant09', 'elephant10', 'elephant11', 'face01',\n",
       "       'face02', 'face03', 'face04', 'face05', 'face06', 'face07',\n",
       "       'face08', 'face09', 'face10', 'flamingo01', 'flamingo02',\n",
       "       'flamingo03', 'flamingo04', 'flamingo05', 'flamingo06',\n",
       "       'flamingo07', 'flamingo08', 'flamingo09', 'flamingo10',\n",
       "       'flamingo11', 'head01', 'head02', 'head03', 'head04', 'head05',\n",
       "       'head06', 'head07', 'head08', 'head09', 'head10', 'horse01',\n",
       "       'horse02', 'horse03', 'horse04', 'horse05', 'horse06', 'horse07',\n",
       "       'horse08', 'horse09', 'horse10', 'lion01', 'lion02', 'lion03',\n",
       "       'lion04', 'lion05', 'lion06', 'lion07', 'lion08', 'lion09',\n",
       "       'lion10'], dtype='<U10')"
      ]
     },
     "execution_count": 60,
     "metadata": {},
     "output_type": "execute_result"
    }
   ],
   "source": [
    "names"
   ]
  },
  {
   "cell_type": "code",
=======
>>>>>>> Stashed changes
   "execution_count": 35,
   "metadata": {},
   "outputs": [],
   "source": [
    "avg = np.min(m_bodies, axis=0)"
   ]
  },
  {
   "cell_type": "code",
   "execution_count": 58,
   "metadata": {},
   "outputs": [
    {
     "data": {
      "text/plain": [
       "(8, 83, 83)"
      ]
     },
     "execution_count": 58,
     "metadata": {},
     "output_type": "execute_result"
    }
   ],
   "source": [
    "m_bodies.shape"
   ]
  },
  {
   "cell_type": "code",
<<<<<<< Updated upstream
   "execution_count": 59,
=======
   "execution_count": 88,
>>>>>>> Stashed changes
   "metadata": {},
   "outputs": [
    {
     "data": {
      "text/plain": [
<<<<<<< Updated upstream
       "array(['camel08', 'camel08', 'camel08', 'camel08', 'camel08', 'camel08',\n",
       "       'camel07', 'camel08', 'camel08', 'camel08', 'camel08', 'camel02',\n",
       "       'camel08', 'camel08', 'camel07', 'camel02', 'camel08', 'camel07',\n",
       "       'camel08', 'camel08', 'camel02', 'camel02', 'camel08', 'camel08',\n",
       "       'camel08', 'camel08', 'camel08', 'camel08', 'camel08', 'camel08',\n",
       "       'camel08', 'camel08', 'camel04', 'camel07', 'camel02', 'camel08',\n",
       "       'camel08', 'camel02', 'camel02', 'camel02', 'camel07', 'camel02',\n",
       "       'camel01', 'camel06', 'camel08', 'camel08', 'camel06', 'camel08',\n",
       "       'camel08', 'camel08', 'camel08', 'camel08', 'camel08', 'camel06',\n",
       "       'camel06', 'camel06', 'camel06', 'camel06', 'camel06', 'camel06',\n",
       "       'camel06', 'camel06', 'camel06', 'camel07', 'camel08', 'camel07',\n",
       "       'camel08', 'camel08', 'camel07', 'camel08', 'camel07', 'camel08',\n",
       "       'camel08', 'camel08', 'camel08', 'camel08', 'camel08', 'camel08',\n",
       "       'camel08', 'camel08', 'camel01', 'camel07', 'camel07'],\n",
       "      dtype='<U10')"
      ]
     },
     "execution_count": 59,
     "metadata": {},
     "output_type": "execute_result"
    }
   ],
   "source": [
    "names[np.argmin(m_bodies, axis=0)[80, :]]"
=======
       "<matplotlib.image.AxesImage at 0x16b407710>"
      ]
     },
     "execution_count": 88,
     "metadata": {},
     "output_type": "execute_result"
    },
    {
     "data": {
      "image/png": "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",
      "text/plain": [
       "<Figure size 640x480 with 1 Axes>"
      ]
     },
     "metadata": {},
     "output_type": "display_data"
    }
   ],
   "source": [
    "plt.imshow(np.argmin(m_bodies, axis=0))"
   ]
  },
  {
   "cell_type": "code",
   "execution_count": 81,
   "metadata": {},
   "outputs": [
    {
     "ename": "TypeError",
     "evalue": "list indices must be integers or slices, not list",
     "output_type": "error",
     "traceback": [
      "\u001b[0;31m---------------------------------------------------------------------------\u001b[0m",
      "\u001b[0;31mTypeError\u001b[0m                                 Traceback (most recent call last)",
      "Cell \u001b[0;32mIn[81], line 1\u001b[0m\n\u001b[0;32m----> 1\u001b[0m animals[\u001b[38;5;28mlist\u001b[39m(np\u001b[38;5;241m.\u001b[39margmin(m_bodies, axis\u001b[38;5;241m=\u001b[39m\u001b[38;5;241m0\u001b[39m)[\u001b[38;5;241m10\u001b[39m, :]\u001b[38;5;241m.\u001b[39mflatten())]\n",
      "\u001b[0;31mTypeError\u001b[0m: list indices must be integers or slices, not list"
     ]
    }
   ],
   "source": [
    "animals[list(np.argmin(m_bodies, axis=0)[10, :].flatten())]"
>>>>>>> Stashed changes
   ]
  },
  {
   "cell_type": "code",
   "execution_count": 36,
   "metadata": {},
   "outputs": [
    {
     "data": {
      "text/plain": [
       "(83, 83)"
      ]
     },
     "execution_count": 36,
     "metadata": {},
     "output_type": "execute_result"
    }
   ],
   "source": [
    "avg.shape"
   ]
  },
  {
   "cell_type": "code",
   "execution_count": 40,
   "metadata": {},
   "outputs": [
    {
     "name": "stderr",
     "output_type": "stream",
     "text": [
      "/Users/alonsoc1s/miniconda3/envs/tes_smalldata_hackathon/lib/python3.11/site-packages/sklearn/manifold/_mds.py:299: FutureWarning:\n",
      "\n",
      "The default value of `normalized_stress` will change to `'auto'` in version 1.4. To suppress this warning, manually set the value of `normalized_stress`.\n",
      "\n"
     ]
    }
   ],
   "source": [
    "mds = manifold.MDS(\n",
    "    n_components=3,\n",
    "    max_iter=3000,\n",
    "    eps=1e-9,\n",
    "    dissimilarity=\"precomputed\",\n",
    "    n_jobs=1,\n",
    ")\n",
<<<<<<< Updated upstream
    "pos = mds.fit(avg).embedding_\n",
    "labels = np.concatenate([np.repeat(\"red\", 11), np.repeat(\"blue\", 10), np.repeat(\"green\", 10)])"
=======
    "pos = mds.fit(avg).embedding_"
>>>>>>> Stashed changes
   ]
  },
  {
   "cell_type": "code",
   "execution_count": 38,
   "metadata": {},
   "outputs": [
    {
     "data": {
      "application/vnd.plotly.v1+json": {
       "config": {
        "plotlyServerURL": "https://plot.ly"
       },
       "data": [
        {
         "hovertemplate": "x=%{x}<br>y=%{y}<br>z=%{z}<br>color=%{marker.color}<extra></extra>",
         "legendgroup": "",
         "marker": {
          "color": [
           4,
           4,
           4,
           4,
           4,
           4,
           4,
           4,
           4,
           4,
           4,
           5,
           5,
           1,
           5,
           5,
           5,
           1,
           5,
           1,
           5,
           7,
           7,
           7,
           7,
           7,
           7,
           7,
           7,
           7,
           7,
           7,
           2,
           2,
           2,
           2,
           2,
           2,
           2,
           2,
           2,
           2,
           6,
           6,
           0,
           0,
           6,
           6,
           6,
           0,
           6,
           0,
           0,
           3,
           3,
           3,
           3,
           3,
           3,
           3,
           3,
           3,
           3,
           1,
           1,
           1,
           1,
           1,
           1,
           1,
           1,
           1,
           1,
           5,
           5,
           5,
           1,
           5,
           5,
           1,
           5,
           1,
           4
          ],
          "coloraxis": "coloraxis",
          "symbol": "circle"
         },
         "mode": "markers",
         "name": "",
         "scene": "scene",
         "showlegend": false,
         "type": "scatter3d",
         "x": [
          -0.024721372817761544,
          -0.02482525317385324,
          -0.02854037627923492,
          -0.05416537437631796,
          -0.049116737503848464,
          -0.036469929313838134,
          -0.04543730968506202,
          -0.023711901265823464,
          -0.02561478946399897,
          -0.013569577251508461,
          -0.03919459966652853,
          -0.03427926634587249,
          -0.043269636376710274,
          -0.032076746958357785,
          -0.03305376733781427,
          -0.04313604360832032,
          -0.045325101465146074,
          -0.021226954839302488,
          -0.07014721400735743,
          -0.03821400827875986,
          -0.026165614168030267,
          -0.03279626336972546,
          -0.04647159824346716,
          -0.04077225011301178,
          -0.05792318055246499,
          -0.04506550763629903,
          -0.058857787605955135,
          -0.047606641709884004,
          -0.03827271544136818,
          -0.04701910028121817,
          -0.047787160553211444,
          -0.06323589286795495,
          0.049991086123810646,
          0.03616949751650968,
          0.03879783943531802,
          0.054418007530303104,
          0.06548893125654191,
          0.05847954358644263,
          0.05189910452494862,
          0.03807314119675417,
          0.046850556737378424,
          0.03905529220252127,
          0.03450621585657338,
          -0.002744092494739583,
          -0.007889370337228816,
          0.005400809366930387,
          0.021377398772999733,
          0.0476292639854111,
          -0.01763033431813029,
          0.008192003396286467,
          -0.00012157657288624261,
          0.029648656463212405,
          -0.014705640925804503,
          0.10143027575623113,
          0.10710889754517695,
          0.09025377693016821,
          0.11079250693849339,
          0.10224238646434348,
          0.10634379430518326,
          0.11129696753025298,
          0.10224585593006498,
          0.10087497342435527,
          0.09994076434062565,
          -0.006964652670894359,
          0.013970755035703374,
          -0.004411697668966163,
          0.019333825571163185,
          0.002965116539975035,
          0.0011179963428873086,
          0.004413090708758909,
          -0.009148104937220725,
          -0.004417578705854903,
          -0.0035454282004344713,
          -0.03929428530744087,
          -0.05036189365192189,
          -0.040616330932003925,
          -0.04120917730757509,
          -0.06466111164735783,
          -0.07127507651136357,
          0.01983189280196396,
          -0.06567415492400755,
          0.0025315941720430797,
          0.00006836138250591837
         ],
         "y": [
          0.03512749702234904,
          0.06811270731885011,
          0.06244795867012334,
          0.031234998419067087,
          0.04800573492952492,
          0.04920649117950194,
          0.051798017749899075,
          0.05197933690239946,
          0.05047655121930046,
          0.06724153766057782,
          0.052731121977015974,
          -0.06851295991964798,
          -0.054658738892162,
          -0.013574198322629703,
          -0.031227793797584658,
          -0.06321735395109775,
          -0.08566668616739681,
          0.009144687238146262,
          -0.03489517420547649,
          -0.013443412864139099,
          -0.0865434908296096,
          -0.06037548527402437,
          -0.048420024971646075,
          -0.08432073148583681,
          -0.08303005249801655,
          -0.09020582925151377,
          -0.05926001044449928,
          -0.07685971914303323,
          -0.042784218877442964,
          -0.0587995447122929,
          -0.0692081207052628,
          -0.06688896457302754,
          -0.07176372519247798,
          -0.0735060728908839,
          -0.0917779637607211,
          -0.06398814676247765,
          -0.06856648302650235,
          -0.07265294485824518,
          -0.08533546535931533,
          -0.04410009408749103,
          -0.050975709935836375,
          -0.0831436429775923,
          0.15078243559013518,
          0.09238224179338365,
          0.18418639080492374,
          0.15832070399249135,
          0.11145793676237639,
          0.11728510788709477,
          0.1223699025637373,
          0.1949034236262044,
          0.11309001009841503,
          0.1813728521378822,
          0.1501854701554368,
          0.00643307005304971,
          0.022089728540959024,
          0.003513053775978294,
          0.03350063030594719,
          -0.008099865515237937,
          0.010096738681524643,
          -0.00440324467306199,
          -0.00294150128595703,
          0.01555892561520206,
          -0.0045140876963687925,
          -0.018414924374020893,
          -0.015283876421884338,
          -0.04797656308209424,
          -0.021943229460983944,
          -0.028383371165355983,
          -0.016560359518448507,
          -0.04432786268154238,
          -0.0347712606194793,
          -0.021809700084609175,
          -0.04092300859813273,
          -0.022485208042410613,
          -0.012977487625735914,
          -0.009501293328049687,
          0.001999114406341888,
          -0.018793218235233517,
          0.0010823120742138538,
          0.033045250119429825,
          -0.05029920649710625,
          0.012585468182179635,
          0.028364621189933933
         ],
         "z": [
          -0.02617127235964497,
          -0.03747261655713175,
          -0.02560589357576651,
          -0.036554474654951076,
          -0.016455252088255212,
          -0.02224488492555404,
          -0.03377244788112869,
          -0.04056875251174216,
          -0.05549248243450729,
          -0.054255581633051005,
          -0.0504978544937515,
          -0.050772133532055945,
          -0.03327753829292356,
          -0.05944722849430757,
          -0.06341574999822377,
          -0.058333766427374215,
          -0.05419843191342834,
          -0.08430527148907033,
          -0.03947149996738587,
          -0.08447155891584433,
          -0.045657069664546156,
          0.01558038320564038,
          0.027712519551151338,
          0.011319667876905566,
          -0.0003070591396526465,
          0.0011410177649477363,
          0.014469428890724792,
          0.016302970493807106,
          0.025153660216992443,
          0.016958299180228547,
          0.010719997492964687,
          0.007966201401402764,
          -0.004913390099301151,
          0.04440594828960501,
          0.00888636962022195,
          0.021814025514035072,
          0.004093158126955352,
          0.03268807902782796,
          0.0026696044717499307,
          0.04945331065802037,
          0.051162107287786925,
          0.025948489109789433,
          0.18182421670528173,
          0.1741551441824197,
          0.12142544816162457,
          0.15830385856384302,
          0.18170129499411633,
          0.18261935492444029,
          0.1734852892789025,
          0.12896113997199182,
          0.1844625909301893,
          0.12542991228886743,
          0.15225874356127062,
          -0.0075417581393914055,
          -0.002704691354763336,
          0.017175363554718666,
          0.005727209015189098,
          0.003076969762728908,
          0.008852295261001314,
          -0.004289729027128103,
          0.01493808459117361,
          -0.014437232843711671,
          -0.015933008060826367,
          -0.05927353856376432,
          -0.07271723499467203,
          -0.06824544055217154,
          -0.06436714936327396,
          -0.0707893111836518,
          -0.05315617063752781,
          -0.07532034087698476,
          -0.061101395246388905,
          -0.07088069418955835,
          -0.05979411705715329,
          -0.0372456632114584,
          -0.05183965149102985,
          -0.03630444748887502,
          -0.05585850738795025,
          -0.0346824031615129,
          -0.019469724619373914,
          -0.08505210342612078,
          -0.04751515884360918,
          -0.09350499564207491,
          -0.06315547551594532
         ]
        }
       ],
       "layout": {
        "coloraxis": {
         "colorbar": {
          "title": {
           "text": "color"
          }
         },
         "colorscale": [
          [
           0,
           "#0d0887"
          ],
          [
           0.1111111111111111,
           "#46039f"
          ],
          [
           0.2222222222222222,
           "#7201a8"
          ],
          [
           0.3333333333333333,
           "#9c179e"
          ],
          [
           0.4444444444444444,
           "#bd3786"
          ],
          [
           0.5555555555555556,
           "#d8576b"
          ],
          [
           0.6666666666666666,
           "#ed7953"
          ],
          [
           0.7777777777777778,
           "#fb9f3a"
          ],
          [
           0.8888888888888888,
           "#fdca26"
          ],
          [
           1,
           "#f0f921"
          ]
         ]
        },
        "legend": {
         "tracegroupgap": 0
        },
        "margin": {
         "t": 60
        },
        "scene": {
         "domain": {
          "x": [
           0,
           1
          ],
          "y": [
           0,
           1
          ]
         },
         "xaxis": {
          "title": {
           "text": "x"
          }
         },
         "yaxis": {
          "title": {
           "text": "y"
          }
         },
         "zaxis": {
          "title": {
           "text": "z"
          }
         }
        },
        "template": {
         "data": {
          "bar": [
           {
            "error_x": {
             "color": "#2a3f5f"
            },
            "error_y": {
             "color": "#2a3f5f"
            },
            "marker": {
             "line": {
              "color": "#E5ECF6",
              "width": 0.5
             },
             "pattern": {
              "fillmode": "overlay",
              "size": 10,
              "solidity": 0.2
             }
            },
            "type": "bar"
           }
          ],
          "barpolar": [
           {
            "marker": {
             "line": {
              "color": "#E5ECF6",
              "width": 0.5
             },
             "pattern": {
              "fillmode": "overlay",
              "size": 10,
              "solidity": 0.2
             }
            },
            "type": "barpolar"
           }
          ],
          "carpet": [
           {
            "aaxis": {
             "endlinecolor": "#2a3f5f",
             "gridcolor": "white",
             "linecolor": "white",
             "minorgridcolor": "white",
             "startlinecolor": "#2a3f5f"
            },
            "baxis": {
             "endlinecolor": "#2a3f5f",
             "gridcolor": "white",
             "linecolor": "white",
             "minorgridcolor": "white",
             "startlinecolor": "#2a3f5f"
            },
            "type": "carpet"
           }
          ],
          "choropleth": [
           {
            "colorbar": {
             "outlinewidth": 0,
             "ticks": ""
            },
            "type": "choropleth"
           }
          ],
          "contour": [
           {
            "colorbar": {
             "outlinewidth": 0,
             "ticks": ""
            },
            "colorscale": [
             [
              0,
              "#0d0887"
             ],
             [
              0.1111111111111111,
              "#46039f"
             ],
             [
              0.2222222222222222,
              "#7201a8"
             ],
             [
              0.3333333333333333,
              "#9c179e"
             ],
             [
              0.4444444444444444,
              "#bd3786"
             ],
             [
              0.5555555555555556,
              "#d8576b"
             ],
             [
              0.6666666666666666,
              "#ed7953"
             ],
             [
              0.7777777777777778,
              "#fb9f3a"
             ],
             [
              0.8888888888888888,
              "#fdca26"
             ],
             [
              1,
              "#f0f921"
             ]
            ],
            "type": "contour"
           }
          ],
          "contourcarpet": [
           {
            "colorbar": {
             "outlinewidth": 0,
             "ticks": ""
            },
            "type": "contourcarpet"
           }
          ],
          "heatmap": [
           {
            "colorbar": {
             "outlinewidth": 0,
             "ticks": ""
            },
            "colorscale": [
             [
              0,
              "#0d0887"
             ],
             [
              0.1111111111111111,
              "#46039f"
             ],
             [
              0.2222222222222222,
              "#7201a8"
             ],
             [
              0.3333333333333333,
              "#9c179e"
             ],
             [
              0.4444444444444444,
              "#bd3786"
             ],
             [
              0.5555555555555556,
              "#d8576b"
             ],
             [
              0.6666666666666666,
              "#ed7953"
             ],
             [
              0.7777777777777778,
              "#fb9f3a"
             ],
             [
              0.8888888888888888,
              "#fdca26"
             ],
             [
              1,
              "#f0f921"
             ]
            ],
            "type": "heatmap"
           }
          ],
          "heatmapgl": [
           {
            "colorbar": {
             "outlinewidth": 0,
             "ticks": ""
            },
            "colorscale": [
             [
              0,
              "#0d0887"
             ],
             [
              0.1111111111111111,
              "#46039f"
             ],
             [
              0.2222222222222222,
              "#7201a8"
             ],
             [
              0.3333333333333333,
              "#9c179e"
             ],
             [
              0.4444444444444444,
              "#bd3786"
             ],
             [
              0.5555555555555556,
              "#d8576b"
             ],
             [
              0.6666666666666666,
              "#ed7953"
             ],
             [
              0.7777777777777778,
              "#fb9f3a"
             ],
             [
              0.8888888888888888,
              "#fdca26"
             ],
             [
              1,
              "#f0f921"
             ]
            ],
            "type": "heatmapgl"
           }
          ],
          "histogram": [
           {
            "marker": {
             "pattern": {
              "fillmode": "overlay",
              "size": 10,
              "solidity": 0.2
             }
            },
            "type": "histogram"
           }
          ],
          "histogram2d": [
           {
            "colorbar": {
             "outlinewidth": 0,
             "ticks": ""
            },
            "colorscale": [
             [
              0,
              "#0d0887"
             ],
             [
              0.1111111111111111,
              "#46039f"
             ],
             [
              0.2222222222222222,
              "#7201a8"
             ],
             [
              0.3333333333333333,
              "#9c179e"
             ],
             [
              0.4444444444444444,
              "#bd3786"
             ],
             [
              0.5555555555555556,
              "#d8576b"
             ],
             [
              0.6666666666666666,
              "#ed7953"
             ],
             [
              0.7777777777777778,
              "#fb9f3a"
             ],
             [
              0.8888888888888888,
              "#fdca26"
             ],
             [
              1,
              "#f0f921"
             ]
            ],
            "type": "histogram2d"
           }
          ],
          "histogram2dcontour": [
           {
            "colorbar": {
             "outlinewidth": 0,
             "ticks": ""
            },
            "colorscale": [
             [
              0,
              "#0d0887"
             ],
             [
              0.1111111111111111,
              "#46039f"
             ],
             [
              0.2222222222222222,
              "#7201a8"
             ],
             [
              0.3333333333333333,
              "#9c179e"
             ],
             [
              0.4444444444444444,
              "#bd3786"
             ],
             [
              0.5555555555555556,
              "#d8576b"
             ],
             [
              0.6666666666666666,
              "#ed7953"
             ],
             [
              0.7777777777777778,
              "#fb9f3a"
             ],
             [
              0.8888888888888888,
              "#fdca26"
             ],
             [
              1,
              "#f0f921"
             ]
            ],
            "type": "histogram2dcontour"
           }
          ],
          "mesh3d": [
           {
            "colorbar": {
             "outlinewidth": 0,
             "ticks": ""
            },
            "type": "mesh3d"
           }
          ],
          "parcoords": [
           {
            "line": {
             "colorbar": {
              "outlinewidth": 0,
              "ticks": ""
             }
            },
            "type": "parcoords"
           }
          ],
          "pie": [
           {
            "automargin": true,
            "type": "pie"
           }
          ],
          "scatter": [
           {
            "fillpattern": {
             "fillmode": "overlay",
             "size": 10,
             "solidity": 0.2
            },
            "type": "scatter"
           }
          ],
          "scatter3d": [
           {
            "line": {
             "colorbar": {
              "outlinewidth": 0,
              "ticks": ""
             }
            },
            "marker": {
             "colorbar": {
              "outlinewidth": 0,
              "ticks": ""
             }
            },
            "type": "scatter3d"
           }
          ],
          "scattercarpet": [
           {
            "marker": {
             "colorbar": {
              "outlinewidth": 0,
              "ticks": ""
             }
            },
            "type": "scattercarpet"
           }
          ],
          "scattergeo": [
           {
            "marker": {
             "colorbar": {
              "outlinewidth": 0,
              "ticks": ""
             }
            },
            "type": "scattergeo"
           }
          ],
          "scattergl": [
           {
            "marker": {
             "colorbar": {
              "outlinewidth": 0,
              "ticks": ""
             }
            },
            "type": "scattergl"
           }
          ],
          "scattermapbox": [
           {
            "marker": {
             "colorbar": {
              "outlinewidth": 0,
              "ticks": ""
             }
            },
            "type": "scattermapbox"
           }
          ],
          "scatterpolar": [
           {
            "marker": {
             "colorbar": {
              "outlinewidth": 0,
              "ticks": ""
             }
            },
            "type": "scatterpolar"
           }
          ],
          "scatterpolargl": [
           {
            "marker": {
             "colorbar": {
              "outlinewidth": 0,
              "ticks": ""
             }
            },
            "type": "scatterpolargl"
           }
          ],
          "scatterternary": [
           {
            "marker": {
             "colorbar": {
              "outlinewidth": 0,
              "ticks": ""
             }
            },
            "type": "scatterternary"
           }
          ],
          "surface": [
           {
            "colorbar": {
             "outlinewidth": 0,
             "ticks": ""
            },
            "colorscale": [
             [
              0,
              "#0d0887"
             ],
             [
              0.1111111111111111,
              "#46039f"
             ],
             [
              0.2222222222222222,
              "#7201a8"
             ],
             [
              0.3333333333333333,
              "#9c179e"
             ],
             [
              0.4444444444444444,
              "#bd3786"
             ],
             [
              0.5555555555555556,
              "#d8576b"
             ],
             [
              0.6666666666666666,
              "#ed7953"
             ],
             [
              0.7777777777777778,
              "#fb9f3a"
             ],
             [
              0.8888888888888888,
              "#fdca26"
             ],
             [
              1,
              "#f0f921"
             ]
            ],
            "type": "surface"
           }
          ],
          "table": [
           {
            "cells": {
             "fill": {
              "color": "#EBF0F8"
             },
             "line": {
              "color": "white"
             }
            },
            "header": {
             "fill": {
              "color": "#C8D4E3"
             },
             "line": {
              "color": "white"
             }
            },
            "type": "table"
           }
          ]
         },
         "layout": {
          "annotationdefaults": {
           "arrowcolor": "#2a3f5f",
           "arrowhead": 0,
           "arrowwidth": 1
          },
          "autotypenumbers": "strict",
          "coloraxis": {
           "colorbar": {
            "outlinewidth": 0,
            "ticks": ""
           }
          },
          "colorscale": {
           "diverging": [
            [
             0,
             "#8e0152"
            ],
            [
             0.1,
             "#c51b7d"
            ],
            [
             0.2,
             "#de77ae"
            ],
            [
             0.3,
             "#f1b6da"
            ],
            [
             0.4,
             "#fde0ef"
            ],
            [
             0.5,
             "#f7f7f7"
            ],
            [
             0.6,
             "#e6f5d0"
            ],
            [
             0.7,
             "#b8e186"
            ],
            [
             0.8,
             "#7fbc41"
            ],
            [
             0.9,
             "#4d9221"
            ],
            [
             1,
             "#276419"
            ]
           ],
           "sequential": [
            [
             0,
             "#0d0887"
            ],
            [
             0.1111111111111111,
             "#46039f"
            ],
            [
             0.2222222222222222,
             "#7201a8"
            ],
            [
             0.3333333333333333,
             "#9c179e"
            ],
            [
             0.4444444444444444,
             "#bd3786"
            ],
            [
             0.5555555555555556,
             "#d8576b"
            ],
            [
             0.6666666666666666,
             "#ed7953"
            ],
            [
             0.7777777777777778,
             "#fb9f3a"
            ],
            [
             0.8888888888888888,
             "#fdca26"
            ],
            [
             1,
             "#f0f921"
            ]
           ],
           "sequentialminus": [
            [
             0,
             "#0d0887"
            ],
            [
             0.1111111111111111,
             "#46039f"
            ],
            [
             0.2222222222222222,
             "#7201a8"
            ],
            [
             0.3333333333333333,
             "#9c179e"
            ],
            [
             0.4444444444444444,
             "#bd3786"
            ],
            [
             0.5555555555555556,
             "#d8576b"
            ],
            [
             0.6666666666666666,
             "#ed7953"
            ],
            [
             0.7777777777777778,
             "#fb9f3a"
            ],
            [
             0.8888888888888888,
             "#fdca26"
            ],
            [
             1,
             "#f0f921"
            ]
           ]
          },
          "colorway": [
           "#636efa",
           "#EF553B",
           "#00cc96",
           "#ab63fa",
           "#FFA15A",
           "#19d3f3",
           "#FF6692",
           "#B6E880",
           "#FF97FF",
           "#FECB52"
          ],
          "font": {
           "color": "#2a3f5f"
          },
          "geo": {
           "bgcolor": "white",
           "lakecolor": "white",
           "landcolor": "#E5ECF6",
           "showlakes": true,
           "showland": true,
           "subunitcolor": "white"
          },
          "hoverlabel": {
           "align": "left"
          },
          "hovermode": "closest",
          "mapbox": {
           "style": "light"
          },
          "paper_bgcolor": "white",
          "plot_bgcolor": "#E5ECF6",
          "polar": {
           "angularaxis": {
            "gridcolor": "white",
            "linecolor": "white",
            "ticks": ""
           },
           "bgcolor": "#E5ECF6",
           "radialaxis": {
            "gridcolor": "white",
            "linecolor": "white",
            "ticks": ""
           }
          },
          "scene": {
           "xaxis": {
            "backgroundcolor": "#E5ECF6",
            "gridcolor": "white",
            "gridwidth": 2,
            "linecolor": "white",
            "showbackground": true,
            "ticks": "",
            "zerolinecolor": "white"
           },
           "yaxis": {
            "backgroundcolor": "#E5ECF6",
            "gridcolor": "white",
            "gridwidth": 2,
            "linecolor": "white",
            "showbackground": true,
            "ticks": "",
            "zerolinecolor": "white"
           },
           "zaxis": {
            "backgroundcolor": "#E5ECF6",
            "gridcolor": "white",
            "gridwidth": 2,
            "linecolor": "white",
            "showbackground": true,
            "ticks": "",
            "zerolinecolor": "white"
           }
          },
          "shapedefaults": {
           "line": {
            "color": "#2a3f5f"
           }
          },
          "ternary": {
           "aaxis": {
            "gridcolor": "white",
            "linecolor": "white",
            "ticks": ""
           },
           "baxis": {
            "gridcolor": "white",
            "linecolor": "white",
            "ticks": ""
           },
           "bgcolor": "#E5ECF6",
           "caxis": {
            "gridcolor": "white",
            "linecolor": "white",
            "ticks": ""
           }
          },
          "title": {
           "x": 0.05
          },
          "xaxis": {
           "automargin": true,
           "gridcolor": "white",
           "linecolor": "white",
           "ticks": "",
           "title": {
            "standoff": 15
           },
           "zerolinecolor": "white",
           "zerolinewidth": 2
          },
          "yaxis": {
           "automargin": true,
           "gridcolor": "white",
           "linecolor": "white",
           "ticks": "",
           "title": {
            "standoff": 15
           },
           "zerolinecolor": "white",
           "zerolinewidth": 2
          }
         }
        }
       }
      }
     },
     "metadata": {},
     "output_type": "display_data"
    }
   ],
   "source": [
    "kmeans = cluster.KMeans(n_clusters=8, random_state=0, n_init=\"auto\").fit(pos)\n",
    "# plt.scatter(pos[:, 0], pos[:, 1], c = kmeans.labels_)\n",
    "px.scatter_3d(x=pos[:, 0], y=pos[:, 1], z=pos[:, 2], color = kmeans.labels_)"
   ]
  },
  {
   "cell_type": "code",
   "execution_count": 39,
   "metadata": {},
   "outputs": [
    {
     "data": {
      "text/plain": [
       "{0: 5, 1: 16, 2: 10, 3: 10, 4: 12, 5: 13, 6: 6, 7: 11}"
      ]
     },
     "execution_count": 39,
     "metadata": {},
     "output_type": "execute_result"
    }
   ],
   "source": [
    "unique, counts = np.unique(kmeans.labels_, return_counts=True)\n",
    "dict(zip(unique,counts))"
   ]
  },
  {
   "cell_type": "code",
   "execution_count": 48,
   "metadata": {},
   "outputs": [
    {
     "data": {
      "text/plain": [
       "array(['elephant01', 'elephant02', 'elephant03', 'elephant04',\n",
       "       'elephant05', 'elephant06', 'elephant07', 'elephant08',\n",
       "       'elephant09', 'elephant10', 'elephant11'], dtype='<U10')"
      ]
     },
     "execution_count": 48,
     "metadata": {},
     "output_type": "execute_result"
    }
   ],
   "source": [
    "names[np.where(kmeans.labels_ == 7)]"
   ]
  },
  {
   "cell_type": "code",
   "execution_count": null,
   "metadata": {},
   "outputs": [],
   "source": []
  }
 ],
 "metadata": {
  "kernelspec": {
   "display_name": "tes_smalldata_hackathon",
   "language": "python",
   "name": "python3"
  },
  "language_info": {
   "codemirror_mode": {
    "name": "ipython",
    "version": 3
   },
   "file_extension": ".py",
   "mimetype": "text/x-python",
   "name": "python",
   "nbconvert_exporter": "python",
   "pygments_lexer": "ipython3",
   "version": "3.11.7"
  }
 },
 "nbformat": 4,
 "nbformat_minor": 2
}
