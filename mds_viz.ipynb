{
 "cells": [
  {
   "cell_type": "code",
   "execution_count": 1,
   "metadata": {},
   "outputs": [],
   "source": [
    "import numpy as np\n",
    "import matplotlib.pyplot as plt\n",
    "from sklearn import manifold, cluster\n",
    "import plotly.express as px"
   ]
  },
  {
   "cell_type": "code",
   "execution_count": 2,
   "metadata": {},
   "outputs": [],
   "source": [
    "m_bodies = np.load(\"aggregated_distances_lgw_sqd500.npy\")\n",
    "names = np.load(\"image_names.npy\")\n",
    "animals = ['camel', 'cat', 'elephant', 'face', 'flamingo', 'head', 'horse', 'lion']"
   ]
  },
  {
   "cell_type": "code",
   "execution_count": 60,
   "metadata": {},
   "outputs": [
    {
     "data": {
      "text/plain": [
       "array(['camel01', 'camel02', 'camel03', 'camel04', 'camel05', 'camel06',\n",
       "       'camel07', 'camel08', 'camel09', 'camel10', 'camel11', 'cat01',\n",
       "       'cat02', 'cat03', 'cat04', 'cat05', 'cat06', 'cat07', 'cat08',\n",
       "       'cat09', 'cat10', 'elephant01', 'elephant02', 'elephant03',\n",
       "       'elephant04', 'elephant05', 'elephant06', 'elephant07',\n",
       "       'elephant08', 'elephant09', 'elephant10', 'elephant11', 'face01',\n",
       "       'face02', 'face03', 'face04', 'face05', 'face06', 'face07',\n",
       "       'face08', 'face09', 'face10', 'flamingo01', 'flamingo02',\n",
       "       'flamingo03', 'flamingo04', 'flamingo05', 'flamingo06',\n",
       "       'flamingo07', 'flamingo08', 'flamingo09', 'flamingo10',\n",
       "       'flamingo11', 'head01', 'head02', 'head03', 'head04', 'head05',\n",
       "       'head06', 'head07', 'head08', 'head09', 'head10', 'horse01',\n",
       "       'horse02', 'horse03', 'horse04', 'horse05', 'horse06', 'horse07',\n",
       "       'horse08', 'horse09', 'horse10', 'lion01', 'lion02', 'lion03',\n",
       "       'lion04', 'lion05', 'lion06', 'lion07', 'lion08', 'lion09',\n",
       "       'lion10'], dtype='<U10')"
      ]
     },
     "execution_count": 60,
     "metadata": {},
     "output_type": "execute_result"
    }
   ],
   "source": [
    "names"
   ]
  },
  {
   "cell_type": "code",
   "execution_count": 35,
   "metadata": {},
   "outputs": [],
   "source": [
    "avg = np.min(m_bodies, axis=0)"
   ]
  },
  {
   "cell_type": "code",
   "execution_count": 58,
   "metadata": {},
   "outputs": [
    {
     "data": {
      "text/plain": [
       "(8, 83, 83)"
      ]
     },
     "execution_count": 58,
     "metadata": {},
     "output_type": "execute_result"
    }
   ],
   "source": [
    "m_bodies.shape"
   ]
  },
  {
   "cell_type": "code",
   "execution_count": 59,
   "metadata": {},
   "outputs": [
    {
     "data": {
      "text/plain": [
       "array(['camel08', 'camel08', 'camel08', 'camel08', 'camel08', 'camel08',\n",
       "       'camel07', 'camel08', 'camel08', 'camel08', 'camel08', 'camel02',\n",
       "       'camel08', 'camel08', 'camel07', 'camel02', 'camel08', 'camel07',\n",
       "       'camel08', 'camel08', 'camel02', 'camel02', 'camel08', 'camel08',\n",
       "       'camel08', 'camel08', 'camel08', 'camel08', 'camel08', 'camel08',\n",
       "       'camel08', 'camel08', 'camel04', 'camel07', 'camel02', 'camel08',\n",
       "       'camel08', 'camel02', 'camel02', 'camel02', 'camel07', 'camel02',\n",
       "       'camel01', 'camel06', 'camel08', 'camel08', 'camel06', 'camel08',\n",
       "       'camel08', 'camel08', 'camel08', 'camel08', 'camel08', 'camel06',\n",
       "       'camel06', 'camel06', 'camel06', 'camel06', 'camel06', 'camel06',\n",
       "       'camel06', 'camel06', 'camel06', 'camel07', 'camel08', 'camel07',\n",
       "       'camel08', 'camel08', 'camel07', 'camel08', 'camel07', 'camel08',\n",
       "       'camel08', 'camel08', 'camel08', 'camel08', 'camel08', 'camel08',\n",
       "       'camel08', 'camel08', 'camel01', 'camel07', 'camel07'],\n",
       "      dtype='<U10')"
      ]
     },
     "execution_count": 59,
     "metadata": {},
     "output_type": "execute_result"
    }
   ],
   "source": [
    "names[np.argmin(m_bodies, axis=0)[80, :]]"
   ]
  },
  {
   "cell_type": "code",
   "execution_count": 36,
   "metadata": {},
   "outputs": [
    {
     "data": {
      "text/plain": [
       "(83, 83)"
      ]
     },
     "execution_count": 36,
     "metadata": {},
     "output_type": "execute_result"
    }
   ],
   "source": [
    "avg.shape"
   ]
  },
  {
   "cell_type": "code",
   "execution_count": 40,
   "metadata": {},
   "outputs": [
    {
     "name": "stderr",
     "output_type": "stream",
     "text": [
      "/Users/alonsoc1s/miniconda3/envs/tes_smalldata_hackathon/lib/python3.11/site-packages/sklearn/manifold/_mds.py:299: FutureWarning:\n",
      "\n",
      "The default value of `normalized_stress` will change to `'auto'` in version 1.4. To suppress this warning, manually set the value of `normalized_stress`.\n",
      "\n"
     ]
    }
   ],
   "source": [
    "mds = manifold.MDS(\n",
    "    n_components=3,\n",
    "    max_iter=3000,\n",
    "    eps=1e-9,\n",
    "    dissimilarity=\"precomputed\",\n",
    "    n_jobs=1,\n",
    ")\n",
    "pos = mds.fit(avg).embedding_\n",
    "labels = np.concatenate([np.repeat(\"red\", 11), np.repeat(\"blue\", 10), np.repeat(\"green\", 10)])"
   ]
  },
  {
   "cell_type": "code",
   "execution_count": 38,
   "metadata": {},
   "outputs": [
    {
     "data": {
      "application/vnd.plotly.v1+json": {
       "config": {
        "plotlyServerURL": "https://plot.ly"
       },
       "data": [
        {
         "hovertemplate": "x=%{x}<br>y=%{y}<br>z=%{z}<br>color=%{marker.color}<extra></extra>",
         "legendgroup": "",
         "marker": {
          "color": [
           4,
           4,
           4,
           4,
           4,
           4,
           4,
           4,
           4,
           4,
           4,
           5,
           5,
           1,
           5,
           5,
           5,
           1,
           5,
           1,
           5,
           7,
           7,
           7,
           7,
           7,
           7,
           7,
           7,
           7,
           7,
           7,
           2,
           2,
           2,
           2,
           2,
           2,
           2,
           2,
           2,
           2,
           6,
           6,
           0,
           0,
           6,
           6,
           6,
           0,
           6,
           0,
           0,
           3,
           3,
           3,
           3,
           3,
           3,
           3,
           3,
           3,
           3,
           1,
           1,
           1,
           1,
           1,
           1,
           1,
           1,
           1,
           1,
           5,
           5,
           5,
           1,
           5,
           5,
           1,
           5,
           1,
           4
          ],
          "coloraxis": "coloraxis",
          "symbol": "circle"
         },
         "mode": "markers",
         "name": "",
         "scene": "scene",
         "showlegend": false,
         "type": "scatter3d",
         "x": [
          -0.024721372817761544,
          -0.02482525317385324,
          -0.02854037627923492,
          -0.05416537437631796,
          -0.049116737503848464,
          -0.036469929313838134,
          -0.04543730968506202,
          -0.023711901265823464,
          -0.02561478946399897,
          -0.013569577251508461,
          -0.03919459966652853,
          -0.03427926634587249,
          -0.043269636376710274,
          -0.032076746958357785,
          -0.03305376733781427,
          -0.04313604360832032,
          -0.045325101465146074,
          -0.021226954839302488,
          -0.07014721400735743,
          -0.03821400827875986,
          -0.026165614168030267,
          -0.03279626336972546,
          -0.04647159824346716,
          -0.04077225011301178,
          -0.05792318055246499,
          -0.04506550763629903,
          -0.058857787605955135,
          -0.047606641709884004,
          -0.03827271544136818,
          -0.04701910028121817,
          -0.047787160553211444,
          -0.06323589286795495,
          0.049991086123810646,
          0.03616949751650968,
          0.03879783943531802,
          0.054418007530303104,
          0.06548893125654191,
          0.05847954358644263,
          0.05189910452494862,
          0.03807314119675417,
          0.046850556737378424,
          0.03905529220252127,
          0.03450621585657338,
          -0.002744092494739583,
          -0.007889370337228816,
          0.005400809366930387,
          0.021377398772999733,
          0.0476292639854111,
          -0.01763033431813029,
          0.008192003396286467,
          -0.00012157657288624261,
          0.029648656463212405,
          -0.014705640925804503,
          0.10143027575623113,
          0.10710889754517695,
          0.09025377693016821,
          0.11079250693849339,
          0.10224238646434348,
          0.10634379430518326,
          0.11129696753025298,
          0.10224585593006498,
          0.10087497342435527,
          0.09994076434062565,
          -0.006964652670894359,
          0.013970755035703374,
          -0.004411697668966163,
          0.019333825571163185,
          0.002965116539975035,
          0.0011179963428873086,
          0.004413090708758909,
          -0.009148104937220725,
          -0.004417578705854903,
          -0.0035454282004344713,
          -0.03929428530744087,
          -0.05036189365192189,
          -0.040616330932003925,
          -0.04120917730757509,
          -0.06466111164735783,
          -0.07127507651136357,
          0.01983189280196396,
          -0.06567415492400755,
          0.0025315941720430797,
          0.00006836138250591837
         ],
         "y": [
          0.03512749702234904,
          0.06811270731885011,
          0.06244795867012334,
          0.031234998419067087,
          0.04800573492952492,
          0.04920649117950194,
          0.051798017749899075,
          0.05197933690239946,
          0.05047655121930046,
          0.06724153766057782,
          0.052731121977015974,
          -0.06851295991964798,
          -0.054658738892162,
          -0.013574198322629703,
          -0.031227793797584658,
          -0.06321735395109775,
          -0.08566668616739681,
          0.009144687238146262,
          -0.03489517420547649,
          -0.013443412864139099,
          -0.0865434908296096,
          -0.06037548527402437,
          -0.048420024971646075,
          -0.08432073148583681,
          -0.08303005249801655,
          -0.09020582925151377,
          -0.05926001044449928,
          -0.07685971914303323,
          -0.042784218877442964,
          -0.0587995447122929,
          -0.0692081207052628,
          -0.06688896457302754,
          -0.07176372519247798,
          -0.0735060728908839,
          -0.0917779637607211,
          -0.06398814676247765,
          -0.06856648302650235,
          -0.07265294485824518,
          -0.08533546535931533,
          -0.04410009408749103,
          -0.050975709935836375,
          -0.0831436429775923,
          0.15078243559013518,
          0.09238224179338365,
          0.18418639080492374,
          0.15832070399249135,
          0.11145793676237639,
          0.11728510788709477,
          0.1223699025637373,
          0.1949034236262044,
          0.11309001009841503,
          0.1813728521378822,
          0.1501854701554368,
          0.00643307005304971,
          0.022089728540959024,
          0.003513053775978294,
          0.03350063030594719,
          -0.008099865515237937,
          0.010096738681524643,
          -0.00440324467306199,
          -0.00294150128595703,
          0.01555892561520206,
          -0.0045140876963687925,
          -0.018414924374020893,
          -0.015283876421884338,
          -0.04797656308209424,
          -0.021943229460983944,
          -0.028383371165355983,
          -0.016560359518448507,
          -0.04432786268154238,
          -0.0347712606194793,
          -0.021809700084609175,
          -0.04092300859813273,
          -0.022485208042410613,
          -0.012977487625735914,
          -0.009501293328049687,
          0.001999114406341888,
          -0.018793218235233517,
          0.0010823120742138538,
          0.033045250119429825,
          -0.05029920649710625,
          0.012585468182179635,
          0.028364621189933933
         ],
         "z": [
          -0.02617127235964497,
          -0.03747261655713175,
          -0.02560589357576651,
          -0.036554474654951076,
          -0.016455252088255212,
          -0.02224488492555404,
          -0.03377244788112869,
          -0.04056875251174216,
          -0.05549248243450729,
          -0.054255581633051005,
          -0.0504978544937515,
          -0.050772133532055945,
          -0.03327753829292356,
          -0.05944722849430757,
          -0.06341574999822377,
          -0.058333766427374215,
          -0.05419843191342834,
          -0.08430527148907033,
          -0.03947149996738587,
          -0.08447155891584433,
          -0.045657069664546156,
          0.01558038320564038,
          0.027712519551151338,
          0.011319667876905566,
          -0.0003070591396526465,
          0.0011410177649477363,
          0.014469428890724792,
          0.016302970493807106,
          0.025153660216992443,
          0.016958299180228547,
          0.010719997492964687,
          0.007966201401402764,
          -0.004913390099301151,
          0.04440594828960501,
          0.00888636962022195,
          0.021814025514035072,
          0.004093158126955352,
          0.03268807902782796,
          0.0026696044717499307,
          0.04945331065802037,
          0.051162107287786925,
          0.025948489109789433,
          0.18182421670528173,
          0.1741551441824197,
          0.12142544816162457,
          0.15830385856384302,
          0.18170129499411633,
          0.18261935492444029,
          0.1734852892789025,
          0.12896113997199182,
          0.1844625909301893,
          0.12542991228886743,
          0.15225874356127062,
          -0.0075417581393914055,
          -0.002704691354763336,
          0.017175363554718666,
          0.005727209015189098,
          0.003076969762728908,
          0.008852295261001314,
          -0.004289729027128103,
          0.01493808459117361,
          -0.014437232843711671,
          -0.015933008060826367,
          -0.05927353856376432,
          -0.07271723499467203,
          -0.06824544055217154,
          -0.06436714936327396,
          -0.0707893111836518,
          -0.05315617063752781,
          -0.07532034087698476,
          -0.061101395246388905,
          -0.07088069418955835,
          -0.05979411705715329,
          -0.0372456632114584,
          -0.05183965149102985,
          -0.03630444748887502,
          -0.05585850738795025,
          -0.0346824031615129,
          -0.019469724619373914,
          -0.08505210342612078,
          -0.04751515884360918,
          -0.09350499564207491,
          -0.06315547551594532
         ]
        }
       ],
       "layout": {
        "coloraxis": {
         "colorbar": {
          "title": {
           "text": "color"
          }
         },
         "colorscale": [
          [
           0,
           "#0d0887"
          ],
          [
           0.1111111111111111,
           "#46039f"
          ],
          [
           0.2222222222222222,
           "#7201a8"
          ],
          [
           0.3333333333333333,
           "#9c179e"
          ],
          [
           0.4444444444444444,
           "#bd3786"
          ],
          [
           0.5555555555555556,
           "#d8576b"
          ],
          [
           0.6666666666666666,
           "#ed7953"
          ],
          [
           0.7777777777777778,
           "#fb9f3a"
          ],
          [
           0.8888888888888888,
           "#fdca26"
          ],
          [
           1,
           "#f0f921"
          ]
         ]
        },
        "legend": {
         "tracegroupgap": 0
        },
        "margin": {
         "t": 60
        },
        "scene": {
         "domain": {
          "x": [
           0,
           1
          ],
          "y": [
           0,
           1
          ]
         },
         "xaxis": {
          "title": {
           "text": "x"
          }
         },
         "yaxis": {
          "title": {
           "text": "y"
          }
         },
         "zaxis": {
          "title": {
           "text": "z"
          }
         }
        },
        "template": {
         "data": {
          "bar": [
           {
            "error_x": {
             "color": "#2a3f5f"
            },
            "error_y": {
             "color": "#2a3f5f"
            },
            "marker": {
             "line": {
              "color": "#E5ECF6",
              "width": 0.5
             },
             "pattern": {
              "fillmode": "overlay",
              "size": 10,
              "solidity": 0.2
             }
            },
            "type": "bar"
           }
          ],
          "barpolar": [
           {
            "marker": {
             "line": {
              "color": "#E5ECF6",
              "width": 0.5
             },
             "pattern": {
              "fillmode": "overlay",
              "size": 10,
              "solidity": 0.2
             }
            },
            "type": "barpolar"
           }
          ],
          "carpet": [
           {
            "aaxis": {
             "endlinecolor": "#2a3f5f",
             "gridcolor": "white",
             "linecolor": "white",
             "minorgridcolor": "white",
             "startlinecolor": "#2a3f5f"
            },
            "baxis": {
             "endlinecolor": "#2a3f5f",
             "gridcolor": "white",
             "linecolor": "white",
             "minorgridcolor": "white",
             "startlinecolor": "#2a3f5f"
            },
            "type": "carpet"
           }
          ],
          "choropleth": [
           {
            "colorbar": {
             "outlinewidth": 0,
             "ticks": ""
            },
            "type": "choropleth"
           }
          ],
          "contour": [
           {
            "colorbar": {
             "outlinewidth": 0,
             "ticks": ""
            },
            "colorscale": [
             [
              0,
              "#0d0887"
             ],
             [
              0.1111111111111111,
              "#46039f"
             ],
             [
              0.2222222222222222,
              "#7201a8"
             ],
             [
              0.3333333333333333,
              "#9c179e"
             ],
             [
              0.4444444444444444,
              "#bd3786"
             ],
             [
              0.5555555555555556,
              "#d8576b"
             ],
             [
              0.6666666666666666,
              "#ed7953"
             ],
             [
              0.7777777777777778,
              "#fb9f3a"
             ],
             [
              0.8888888888888888,
              "#fdca26"
             ],
             [
              1,
              "#f0f921"
             ]
            ],
            "type": "contour"
           }
          ],
          "contourcarpet": [
           {
            "colorbar": {
             "outlinewidth": 0,
             "ticks": ""
            },
            "type": "contourcarpet"
           }
          ],
          "heatmap": [
           {
            "colorbar": {
             "outlinewidth": 0,
             "ticks": ""
            },
            "colorscale": [
             [
              0,
              "#0d0887"
             ],
             [
              0.1111111111111111,
              "#46039f"
             ],
             [
              0.2222222222222222,
              "#7201a8"
             ],
             [
              0.3333333333333333,
              "#9c179e"
             ],
             [
              0.4444444444444444,
              "#bd3786"
             ],
             [
              0.5555555555555556,
              "#d8576b"
             ],
             [
              0.6666666666666666,
              "#ed7953"
             ],
             [
              0.7777777777777778,
              "#fb9f3a"
             ],
             [
              0.8888888888888888,
              "#fdca26"
             ],
             [
              1,
              "#f0f921"
             ]
            ],
            "type": "heatmap"
           }
          ],
          "heatmapgl": [
           {
            "colorbar": {
             "outlinewidth": 0,
             "ticks": ""
            },
            "colorscale": [
             [
              0,
              "#0d0887"
             ],
             [
              0.1111111111111111,
              "#46039f"
             ],
             [
              0.2222222222222222,
              "#7201a8"
             ],
             [
              0.3333333333333333,
              "#9c179e"
             ],
             [
              0.4444444444444444,
              "#bd3786"
             ],
             [
              0.5555555555555556,
              "#d8576b"
             ],
             [
              0.6666666666666666,
              "#ed7953"
             ],
             [
              0.7777777777777778,
              "#fb9f3a"
             ],
             [
              0.8888888888888888,
              "#fdca26"
             ],
             [
              1,
              "#f0f921"
             ]
            ],
            "type": "heatmapgl"
           }
          ],
          "histogram": [
           {
            "marker": {
             "pattern": {
              "fillmode": "overlay",
              "size": 10,
              "solidity": 0.2
             }
            },
            "type": "histogram"
           }
          ],
          "histogram2d": [
           {
            "colorbar": {
             "outlinewidth": 0,
             "ticks": ""
            },
            "colorscale": [
             [
              0,
              "#0d0887"
             ],
             [
              0.1111111111111111,
              "#46039f"
             ],
             [
              0.2222222222222222,
              "#7201a8"
             ],
             [
              0.3333333333333333,
              "#9c179e"
             ],
             [
              0.4444444444444444,
              "#bd3786"
             ],
             [
              0.5555555555555556,
              "#d8576b"
             ],
             [
              0.6666666666666666,
              "#ed7953"
             ],
             [
              0.7777777777777778,
              "#fb9f3a"
             ],
             [
              0.8888888888888888,
              "#fdca26"
             ],
             [
              1,
              "#f0f921"
             ]
            ],
            "type": "histogram2d"
           }
          ],
          "histogram2dcontour": [
           {
            "colorbar": {
             "outlinewidth": 0,
             "ticks": ""
            },
            "colorscale": [
             [
              0,
              "#0d0887"
             ],
             [
              0.1111111111111111,
              "#46039f"
             ],
             [
              0.2222222222222222,
              "#7201a8"
             ],
             [
              0.3333333333333333,
              "#9c179e"
             ],
             [
              0.4444444444444444,
              "#bd3786"
             ],
             [
              0.5555555555555556,
              "#d8576b"
             ],
             [
              0.6666666666666666,
              "#ed7953"
             ],
             [
              0.7777777777777778,
              "#fb9f3a"
             ],
             [
              0.8888888888888888,
              "#fdca26"
             ],
             [
              1,
              "#f0f921"
             ]
            ],
            "type": "histogram2dcontour"
           }
          ],
          "mesh3d": [
           {
            "colorbar": {
             "outlinewidth": 0,
             "ticks": ""
            },
            "type": "mesh3d"
           }
          ],
          "parcoords": [
           {
            "line": {
             "colorbar": {
              "outlinewidth": 0,
              "ticks": ""
             }
            },
            "type": "parcoords"
           }
          ],
          "pie": [
           {
            "automargin": true,
            "type": "pie"
           }
          ],
          "scatter": [
           {
            "fillpattern": {
             "fillmode": "overlay",
             "size": 10,
             "solidity": 0.2
            },
            "type": "scatter"
           }
          ],
          "scatter3d": [
           {
            "line": {
             "colorbar": {
              "outlinewidth": 0,
              "ticks": ""
             }
            },
            "marker": {
             "colorbar": {
              "outlinewidth": 0,
              "ticks": ""
             }
            },
            "type": "scatter3d"
           }
          ],
          "scattercarpet": [
           {
            "marker": {
             "colorbar": {
              "outlinewidth": 0,
              "ticks": ""
             }
            },
            "type": "scattercarpet"
           }
          ],
          "scattergeo": [
           {
            "marker": {
             "colorbar": {
              "outlinewidth": 0,
              "ticks": ""
             }
            },
            "type": "scattergeo"
           }
          ],
          "scattergl": [
           {
            "marker": {
             "colorbar": {
              "outlinewidth": 0,
              "ticks": ""
             }
            },
            "type": "scattergl"
           }
          ],
          "scattermapbox": [
           {
            "marker": {
             "colorbar": {
              "outlinewidth": 0,
              "ticks": ""
             }
            },
            "type": "scattermapbox"
           }
          ],
          "scatterpolar": [
           {
            "marker": {
             "colorbar": {
              "outlinewidth": 0,
              "ticks": ""
             }
            },
            "type": "scatterpolar"
           }
          ],
          "scatterpolargl": [
           {
            "marker": {
             "colorbar": {
              "outlinewidth": 0,
              "ticks": ""
             }
            },
            "type": "scatterpolargl"
           }
          ],
          "scatterternary": [
           {
            "marker": {
             "colorbar": {
              "outlinewidth": 0,
              "ticks": ""
             }
            },
            "type": "scatterternary"
           }
          ],
          "surface": [
           {
            "colorbar": {
             "outlinewidth": 0,
             "ticks": ""
            },
            "colorscale": [
             [
              0,
              "#0d0887"
             ],
             [
              0.1111111111111111,
              "#46039f"
             ],
             [
              0.2222222222222222,
              "#7201a8"
             ],
             [
              0.3333333333333333,
              "#9c179e"
             ],
             [
              0.4444444444444444,
              "#bd3786"
             ],
             [
              0.5555555555555556,
              "#d8576b"
             ],
             [
              0.6666666666666666,
              "#ed7953"
             ],
             [
              0.7777777777777778,
              "#fb9f3a"
             ],
             [
              0.8888888888888888,
              "#fdca26"
             ],
             [
              1,
              "#f0f921"
             ]
            ],
            "type": "surface"
           }
          ],
          "table": [
           {
            "cells": {
             "fill": {
              "color": "#EBF0F8"
             },
             "line": {
              "color": "white"
             }
            },
            "header": {
             "fill": {
              "color": "#C8D4E3"
             },
             "line": {
              "color": "white"
             }
            },
            "type": "table"
           }
          ]
         },
         "layout": {
          "annotationdefaults": {
           "arrowcolor": "#2a3f5f",
           "arrowhead": 0,
           "arrowwidth": 1
          },
          "autotypenumbers": "strict",
          "coloraxis": {
           "colorbar": {
            "outlinewidth": 0,
            "ticks": ""
           }
          },
          "colorscale": {
           "diverging": [
            [
             0,
             "#8e0152"
            ],
            [
             0.1,
             "#c51b7d"
            ],
            [
             0.2,
             "#de77ae"
            ],
            [
             0.3,
             "#f1b6da"
            ],
            [
             0.4,
             "#fde0ef"
            ],
            [
             0.5,
             "#f7f7f7"
            ],
            [
             0.6,
             "#e6f5d0"
            ],
            [
             0.7,
             "#b8e186"
            ],
            [
             0.8,
             "#7fbc41"
            ],
            [
             0.9,
             "#4d9221"
            ],
            [
             1,
             "#276419"
            ]
           ],
           "sequential": [
            [
             0,
             "#0d0887"
            ],
            [
             0.1111111111111111,
             "#46039f"
            ],
            [
             0.2222222222222222,
             "#7201a8"
            ],
            [
             0.3333333333333333,
             "#9c179e"
            ],
            [
             0.4444444444444444,
             "#bd3786"
            ],
            [
             0.5555555555555556,
             "#d8576b"
            ],
            [
             0.6666666666666666,
             "#ed7953"
            ],
            [
             0.7777777777777778,
             "#fb9f3a"
            ],
            [
             0.8888888888888888,
             "#fdca26"
            ],
            [
             1,
             "#f0f921"
            ]
           ],
           "sequentialminus": [
            [
             0,
             "#0d0887"
            ],
            [
             0.1111111111111111,
             "#46039f"
            ],
            [
             0.2222222222222222,
             "#7201a8"
            ],
            [
             0.3333333333333333,
             "#9c179e"
            ],
            [
             0.4444444444444444,
             "#bd3786"
            ],
            [
             0.5555555555555556,
             "#d8576b"
            ],
            [
             0.6666666666666666,
             "#ed7953"
            ],
            [
             0.7777777777777778,
             "#fb9f3a"
            ],
            [
             0.8888888888888888,
             "#fdca26"
            ],
            [
             1,
             "#f0f921"
            ]
           ]
          },
          "colorway": [
           "#636efa",
           "#EF553B",
           "#00cc96",
           "#ab63fa",
           "#FFA15A",
           "#19d3f3",
           "#FF6692",
           "#B6E880",
           "#FF97FF",
           "#FECB52"
          ],
          "font": {
           "color": "#2a3f5f"
          },
          "geo": {
           "bgcolor": "white",
           "lakecolor": "white",
           "landcolor": "#E5ECF6",
           "showlakes": true,
           "showland": true,
           "subunitcolor": "white"
          },
          "hoverlabel": {
           "align": "left"
          },
          "hovermode": "closest",
          "mapbox": {
           "style": "light"
          },
          "paper_bgcolor": "white",
          "plot_bgcolor": "#E5ECF6",
          "polar": {
           "angularaxis": {
            "gridcolor": "white",
            "linecolor": "white",
            "ticks": ""
           },
           "bgcolor": "#E5ECF6",
           "radialaxis": {
            "gridcolor": "white",
            "linecolor": "white",
            "ticks": ""
           }
          },
          "scene": {
           "xaxis": {
            "backgroundcolor": "#E5ECF6",
            "gridcolor": "white",
            "gridwidth": 2,
            "linecolor": "white",
            "showbackground": true,
            "ticks": "",
            "zerolinecolor": "white"
           },
           "yaxis": {
            "backgroundcolor": "#E5ECF6",
            "gridcolor": "white",
            "gridwidth": 2,
            "linecolor": "white",
            "showbackground": true,
            "ticks": "",
            "zerolinecolor": "white"
           },
           "zaxis": {
            "backgroundcolor": "#E5ECF6",
            "gridcolor": "white",
            "gridwidth": 2,
            "linecolor": "white",
            "showbackground": true,
            "ticks": "",
            "zerolinecolor": "white"
           }
          },
          "shapedefaults": {
           "line": {
            "color": "#2a3f5f"
           }
          },
          "ternary": {
           "aaxis": {
            "gridcolor": "white",
            "linecolor": "white",
            "ticks": ""
           },
           "baxis": {
            "gridcolor": "white",
            "linecolor": "white",
            "ticks": ""
           },
           "bgcolor": "#E5ECF6",
           "caxis": {
            "gridcolor": "white",
            "linecolor": "white",
            "ticks": ""
           }
          },
          "title": {
           "x": 0.05
          },
          "xaxis": {
           "automargin": true,
           "gridcolor": "white",
           "linecolor": "white",
           "ticks": "",
           "title": {
            "standoff": 15
           },
           "zerolinecolor": "white",
           "zerolinewidth": 2
          },
          "yaxis": {
           "automargin": true,
           "gridcolor": "white",
           "linecolor": "white",
           "ticks": "",
           "title": {
            "standoff": 15
           },
           "zerolinecolor": "white",
           "zerolinewidth": 2
          }
         }
        }
       }
      }
     },
     "metadata": {},
     "output_type": "display_data"
    }
   ],
   "source": [
    "kmeans = cluster.KMeans(n_clusters=8, random_state=0, n_init=\"auto\").fit(pos)\n",
    "# plt.scatter(pos[:, 0], pos[:, 1], c = kmeans.labels_)\n",
    "px.scatter_3d(x=pos[:, 0], y=pos[:, 1], z=pos[:, 2], color = kmeans.labels_)"
   ]
  },
  {
   "cell_type": "code",
   "execution_count": 39,
   "metadata": {},
   "outputs": [
    {
     "data": {
      "text/plain": [
       "{0: 5, 1: 16, 2: 10, 3: 10, 4: 12, 5: 13, 6: 6, 7: 11}"
      ]
     },
     "execution_count": 39,
     "metadata": {},
     "output_type": "execute_result"
    }
   ],
   "source": [
    "unique, counts = np.unique(kmeans.labels_, return_counts=True)\n",
    "dict(zip(unique,counts))"
   ]
  },
  {
   "cell_type": "code",
   "execution_count": 48,
   "metadata": {},
   "outputs": [
    {
     "data": {
      "text/plain": [
       "array(['elephant01', 'elephant02', 'elephant03', 'elephant04',\n",
       "       'elephant05', 'elephant06', 'elephant07', 'elephant08',\n",
       "       'elephant09', 'elephant10', 'elephant11'], dtype='<U10')"
      ]
     },
     "execution_count": 48,
     "metadata": {},
     "output_type": "execute_result"
    }
   ],
   "source": [
    "names[np.where(kmeans.labels_ == 7)]"
   ]
  },
  {
   "cell_type": "code",
   "execution_count": null,
   "metadata": {},
   "outputs": [],
   "source": []
  }
 ],
 "metadata": {
  "kernelspec": {
   "display_name": "tes_smalldata_hackathon",
   "language": "python",
   "name": "python3"
  },
  "language_info": {
   "codemirror_mode": {
    "name": "ipython",
    "version": 3
   },
   "file_extension": ".py",
   "mimetype": "text/x-python",
   "name": "python",
   "nbconvert_exporter": "python",
   "pygments_lexer": "ipython3",
   "version": "3.11.7"
  }
 },
 "nbformat": 4,
 "nbformat_minor": 2
}
